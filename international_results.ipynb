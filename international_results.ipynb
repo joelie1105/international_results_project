{
 "cells": [
  {
   "cell_type": "code",
   "execution_count": 60,
   "id": "88772664",
   "metadata": {},
   "outputs": [],
   "source": [
    "import pandas as pd\n",
    "import numpy as np\n",
    "import sqlite3\n",
    "import matplotlib.pyplot as plt\n",
    "\n",
    "\n"
   ]
  },
  {
   "cell_type": "code",
   "execution_count": 61,
   "id": "2b52fa1c",
   "metadata": {},
   "outputs": [
    {
     "name": "stdout",
     "output_type": "stream",
     "text": [
      "Index(['date', 'home_team', 'away_team', 'home_score', 'away_score',\n",
      "       'tournament', 'city', 'country', 'neutral'],\n",
      "      dtype='object')\n",
      "Index(['date', 'home_team', 'away_team', 'winner', 'first_shooter'], dtype='object')\n",
      "Index(['date', 'home_team', 'away_team', 'team', 'scorer', 'minute',\n",
      "       'own_goal', 'penalty'],\n",
      "      dtype='object')\n"
     ]
    }
   ],
   "source": [
    "results = pd.read_csv('results.csv')\n",
    "shootouts = pd.read_csv('shootouts.csv')\n",
    "goalscorers = pd.read_csv('goalscorers.csv')\n",
    "print(results.columns)\n",
    "print(shootouts.columns)\n",
    "print(goalscorers.columns)\n"
   ]
  },
  {
   "cell_type": "code",
   "execution_count": 62,
   "id": "b3b57e02",
   "metadata": {},
   "outputs": [
    {
     "name": "stdout",
     "output_type": "stream",
     "text": [
      "         date home_team away_team  home_score  away_score tournament     city  \\\n",
      "0  1872-11-30  Scotland   England           0           0   Friendly  Glasgow   \n",
      "1  1873-03-08   England  Scotland           4           2   Friendly   London   \n",
      "2  1874-03-07  Scotland   England           2           1   Friendly  Glasgow   \n",
      "3  1875-03-06   England  Scotland           2           2   Friendly   London   \n",
      "4  1876-03-04  Scotland   England           3           0   Friendly  Glasgow   \n",
      "\n",
      "    country  neutral  \n",
      "0  Scotland    False  \n",
      "1   England    False  \n",
      "2  Scotland    False  \n",
      "3   England    False  \n",
      "4  Scotland    False  \n"
     ]
    }
   ],
   "source": [
    "print(results.head())"
   ]
  },
  {
   "cell_type": "code",
   "execution_count": 63,
   "id": "68c1a77c",
   "metadata": {},
   "outputs": [
    {
     "data": {
      "text/plain": [
       "(48335, 9)"
      ]
     },
     "execution_count": 63,
     "metadata": {},
     "output_type": "execute_result"
    }
   ],
   "source": [
    "results.shape"
   ]
  },
  {
   "cell_type": "code",
   "execution_count": 64,
   "id": "e56e1e4a",
   "metadata": {},
   "outputs": [
    {
     "name": "stdout",
     "output_type": "stream",
     "text": [
      "<class 'pandas.core.frame.DataFrame'>\n",
      "RangeIndex: 48335 entries, 0 to 48334\n",
      "Data columns (total 9 columns):\n",
      " #   Column      Non-Null Count  Dtype \n",
      "---  ------      --------------  ----- \n",
      " 0   date        48335 non-null  object\n",
      " 1   home_team   48335 non-null  object\n",
      " 2   away_team   48335 non-null  object\n",
      " 3   home_score  48335 non-null  int64 \n",
      " 4   away_score  48335 non-null  int64 \n",
      " 5   tournament  48335 non-null  object\n",
      " 6   city        48335 non-null  object\n",
      " 7   country     48335 non-null  object\n",
      " 8   neutral     48335 non-null  bool  \n",
      "dtypes: bool(1), int64(2), object(6)\n",
      "memory usage: 3.0+ MB\n"
     ]
    }
   ],
   "source": [
    "results.info()"
   ]
  },
  {
   "cell_type": "code",
   "execution_count": 65,
   "id": "2b918217",
   "metadata": {},
   "outputs": [
    {
     "data": {
      "text/plain": [
       "0   1872-11-30\n",
       "1   1873-03-08\n",
       "2   1874-03-07\n",
       "3   1875-03-06\n",
       "4   1876-03-04\n",
       "Name: date, dtype: datetime64[ns]"
      ]
     },
     "execution_count": 65,
     "metadata": {},
     "output_type": "execute_result"
    }
   ],
   "source": [
    "results['date'] = pd.to_datetime(results['date'], format='%Y-%m-%d')\n",
    "#results['year'] = results['date'].dt.year\n",
    "results.date.head()"
   ]
  },
  {
   "cell_type": "code",
   "execution_count": 66,
   "id": "bfc1fd66",
   "metadata": {},
   "outputs": [
    {
     "name": "stdout",
     "output_type": "stream",
     "text": [
      "                  date home_team away_team  home_score  away_score tournament  \\\n",
      "0  1872-11-30 00:00:00  Scotland   England           0           0   Friendly   \n",
      "1  1873-03-08 00:00:00   England  Scotland           4           2   Friendly   \n",
      "2  1874-03-07 00:00:00  Scotland   England           2           1   Friendly   \n",
      "3  1875-03-06 00:00:00   England  Scotland           2           2   Friendly   \n",
      "4  1876-03-04 00:00:00  Scotland   England           3           0   Friendly   \n",
      "\n",
      "      city   country  neutral  date home_team away_team winner first_shooter  \n",
      "0  Glasgow  Scotland        0  None      None      None   None          None  \n",
      "1   London   England        0  None      None      None   None          None  \n",
      "2  Glasgow  Scotland        0  None      None      None   None          None  \n",
      "3   London   England        0  None      None      None   None          None  \n",
      "4  Glasgow  Scotland        0  None      None      None   None          None  \n"
     ]
    }
   ],
   "source": [
    "conn = sqlite3.connect('your_database.db')\n",
    "results.to_sql('results', conn, if_exists='replace', index=False)\n",
    "shootouts.to_sql('shootouts', conn, if_exists='replace', index=False)\n",
    "\n",
    "\n",
    "results_join = \"\"\"SELECT *\n",
    "FROM results\n",
    "LEFT JOIN shootouts\n",
    "ON results.date = shootouts.date;\n",
    "\"\"\"\n",
    "\n",
    "df = pd.read_sql_query(results_join, conn)\n",
    "print(df.head())\n",
    "conn.close()\n"
   ]
  },
  {
   "cell_type": "code",
   "execution_count": 67,
   "id": "d4079d13",
   "metadata": {},
   "outputs": [
    {
     "name": "stdout",
     "output_type": "stream",
     "text": [
      "                      date     home_team    away_team  home_score  away_score  \\\n",
      "48320  2025-06-10 00:00:00   South Korea       Kuwait           4           0   \n",
      "48321  2025-06-10 00:00:00        Jordan         Iraq           0           1   \n",
      "48322  2025-06-10 00:00:00     Palestine         Oman           1           1   \n",
      "48323  2025-06-10 00:00:00      China PR      Bahrain           1           0   \n",
      "48324  2025-06-10 00:00:00         Japan    Indonesia           6           0   \n",
      "48325  2025-06-10 00:00:00  Saudi Arabia    Australia           1           2   \n",
      "48326  2025-06-10 00:00:00   Netherlands        Malta           8           0   \n",
      "48327  2025-06-10 00:00:00       Finland       Poland           2           1   \n",
      "48328  2025-06-10 00:00:00    San Marino      Austria           0           4   \n",
      "48329  2025-06-10 00:00:00       Romania       Cyprus           2           0   \n",
      "48330  2025-06-10 00:00:00        Serbia      Andorra           3           0   \n",
      "48331  2025-06-10 00:00:00        Latvia      Albania           1           1   \n",
      "48332  2025-06-10 00:00:00   New Zealand      Ukraine           1           2   \n",
      "48333  2025-06-10 00:00:00        Canada  Ivory Coast           0           0   \n",
      "48334  2025-06-10 00:00:00       Belarus       Russia           1           4   \n",
      "\n",
      "                         tournament        city       country  neutral  date  \\\n",
      "48320  FIFA World Cup qualification       Seoul   South Korea        0  None   \n",
      "48321  FIFA World Cup qualification       Amman        Jordan        0  None   \n",
      "48322  FIFA World Cup qualification       Amman        Jordan        1  None   \n",
      "48323  FIFA World Cup qualification   Chongqing      China PR        0  None   \n",
      "48324  FIFA World Cup qualification       Suita         Japan        0  None   \n",
      "48325  FIFA World Cup qualification      Jeddah  Saudi Arabia        0  None   \n",
      "48326  FIFA World Cup qualification   Groningen   Netherlands        0  None   \n",
      "48327  FIFA World Cup qualification    Helsinki       Finland        0  None   \n",
      "48328  FIFA World Cup qualification  Serravalle    San Marino        0  None   \n",
      "48329  FIFA World Cup qualification   Bucharest       Romania        0  None   \n",
      "48330  FIFA World Cup qualification    Leskovac        Serbia        0  None   \n",
      "48331  FIFA World Cup qualification        Riga        Latvia        0  None   \n",
      "48332               Canadian Shield     Toronto        Canada        1  None   \n",
      "48333               Canadian Shield     Toronto        Canada        0  None   \n",
      "48334                      Friendly       Minsk       Belarus        0  None   \n",
      "\n",
      "      home_team away_team winner first_shooter  \n",
      "48320      None      None   None          None  \n",
      "48321      None      None   None          None  \n",
      "48322      None      None   None          None  \n",
      "48323      None      None   None          None  \n",
      "48324      None      None   None          None  \n",
      "48325      None      None   None          None  \n",
      "48326      None      None   None          None  \n",
      "48327      None      None   None          None  \n",
      "48328      None      None   None          None  \n",
      "48329      None      None   None          None  \n",
      "48330      None      None   None          None  \n",
      "48331      None      None   None          None  \n",
      "48332      None      None   None          None  \n",
      "48333      None      None   None          None  \n",
      "48334      None      None   None          None  \n"
     ]
    }
   ],
   "source": [
    "print(df.tail(15))"
   ]
  },
  {
   "cell_type": "code",
   "execution_count": null,
   "id": "a60dcd9f",
   "metadata": {},
   "outputs": [
    {
     "name": "stdout",
     "output_type": "stream",
     "text": [
      "                  date  home_team      away_team  home_score  away_score  \\\n",
      "0  1930-07-13 00:00:00    Belgium  United States           0           3   \n",
      "1  1930-07-13 00:00:00     France         Mexico           4           1   \n",
      "2  1930-07-14 00:00:00     Brazil     Yugoslavia           1           2   \n",
      "3  1930-07-14 00:00:00       Peru        Romania           1           3   \n",
      "4  1930-07-15 00:00:00  Argentina         France           1           0   \n",
      "\n",
      "       tournament        city  country  neutral  date home_team away_team  \\\n",
      "0  FIFA World Cup  Montevideo  Uruguay        1  None      None      None   \n",
      "1  FIFA World Cup  Montevideo  Uruguay        1  None      None      None   \n",
      "2  FIFA World Cup  Montevideo  Uruguay        1  None      None      None   \n",
      "3  FIFA World Cup  Montevideo  Uruguay        1  None      None      None   \n",
      "4  FIFA World Cup  Montevideo  Uruguay        1  None      None      None   \n",
      "\n",
      "  winner first_shooter  \n",
      "0   None          None  \n",
      "1   None          None  \n",
      "2   None          None  \n",
      "3   None          None  \n",
      "4   None          None  \n"
     ]
    }
   ],
   "source": [
    "# Create a new SQLite connection and dataframe using the results and shootouts tables with only matches from FIFA World Cup matches.\n",
    "conn = sqlite3.connect('your_database.db')\n",
    "results.to_sql('results', conn, if_exists='replace', index=False)\n",
    "shootouts.to_sql('shootouts', conn, if_exists='replace', index=False)\n",
    "\n",
    "\n",
    "results_WC = \"\"\"SELECT *\n",
    "FROM results\n",
    "LEFT JOIN shootouts\n",
    "ON results.date = shootouts.date\n",
    "WHERE results.tournament = 'FIFA World Cup';\n",
    "\"\"\"\n",
    "\n",
    "df_results_WC = pd.read_sql_query(results_WC, conn)\n",
    "print(df_results_WC.head())\n",
    "\n",
    "conn.close()"
   ]
  },
  {
   "cell_type": "code",
   "execution_count": null,
   "id": "c6950a16",
   "metadata": {},
   "outputs": [],
   "source": []
  },
  {
   "cell_type": "code",
   "execution_count": null,
   "id": "bfea11f6",
   "metadata": {},
   "outputs": [],
   "source": []
  },
  {
   "cell_type": "code",
   "execution_count": null,
   "id": "ff5167f7",
   "metadata": {},
   "outputs": [],
   "source": []
  },
  {
   "cell_type": "code",
   "execution_count": null,
   "id": "d9d64040",
   "metadata": {},
   "outputs": [],
   "source": []
  },
  {
   "cell_type": "code",
   "execution_count": null,
   "id": "00474411",
   "metadata": {},
   "outputs": [],
   "source": []
  },
  {
   "cell_type": "code",
   "execution_count": null,
   "id": "a08c4410",
   "metadata": {},
   "outputs": [],
   "source": []
  },
  {
   "cell_type": "code",
   "execution_count": null,
   "id": "e7d74e51",
   "metadata": {},
   "outputs": [],
   "source": []
  },
  {
   "cell_type": "code",
   "execution_count": null,
   "id": "862ef393",
   "metadata": {},
   "outputs": [],
   "source": []
  },
  {
   "cell_type": "code",
   "execution_count": null,
   "id": "1447dca3",
   "metadata": {},
   "outputs": [],
   "source": []
  },
  {
   "cell_type": "code",
   "execution_count": null,
   "id": "0f93c903",
   "metadata": {},
   "outputs": [],
   "source": []
  },
  {
   "cell_type": "code",
   "execution_count": null,
   "id": "f89e37a8",
   "metadata": {},
   "outputs": [],
   "source": []
  },
  {
   "cell_type": "code",
   "execution_count": null,
   "id": "3a36e6a1",
   "metadata": {},
   "outputs": [],
   "source": []
  },
  {
   "cell_type": "code",
   "execution_count": null,
   "id": "6f233887",
   "metadata": {},
   "outputs": [],
   "source": []
  }
 ],
 "metadata": {
  "kernelspec": {
   "display_name": "base",
   "language": "python",
   "name": "python3"
  },
  "language_info": {
   "codemirror_mode": {
    "name": "ipython",
    "version": 3
   },
   "file_extension": ".py",
   "mimetype": "text/x-python",
   "name": "python",
   "nbconvert_exporter": "python",
   "pygments_lexer": "ipython3",
   "version": "3.12.7"
  }
 },
 "nbformat": 4,
 "nbformat_minor": 5
}
