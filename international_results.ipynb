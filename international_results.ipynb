{
 "cells": [
  {
   "cell_type": "markdown",
   "id": "b8b7ed1f",
   "metadata": {},
   "source": [
    "Required libraries for the project"
   ]
  },
  {
   "cell_type": "code",
   "execution_count": null,
   "id": "88772664",
   "metadata": {},
   "outputs": [],
   "source": [
    "import pandas as pd\n",
    "import numpy as np\n",
    "import sqlite3\n",
    "import matplotlib.pyplot as plt\n",
    "import seaborn as sns\n",
    "\n"
   ]
  },
  {
   "cell_type": "markdown",
   "id": "c6ab2503",
   "metadata": {},
   "source": [
    "Importing the csv files, creating a function to check the names of the columns in each csv file, and printing the names of the columns.  "
   ]
  },
  {
   "cell_type": "code",
   "execution_count": 3,
   "id": "2b52fa1c",
   "metadata": {},
   "outputs": [
    {
     "name": "stdout",
     "output_type": "stream",
     "text": [
      "results columns: ['date', 'home_team', 'away_team', 'home_score', 'away_score', 'tournament', 'city', 'country', 'neutral']\n",
      "shootouts columns: ['date', 'home_team', 'away_team', 'winner', 'first_shooter']\n",
      "goalscorers columns: ['date', 'home_team', 'away_team', 'team', 'scorer', 'minute', 'own_goal', 'penalty']\n"
     ]
    }
   ],
   "source": [
    "results = pd.read_csv('results.csv')\n",
    "shootouts = pd.read_csv('shootouts.csv')\n",
    "goalscorers = pd.read_csv('goalscorers.csv')\n",
    "\n",
    "\n",
    "def print_columns(df, name):\n",
    "    print(f\"{name} columns: {df.columns.tolist()}\")\n",
    "\n",
    "print_columns(results, 'results')\n",
    "print_columns(shootouts, 'shootouts')\n",
    "print_columns(goalscorers, 'goalscorers')   \n"
   ]
  },
  {
   "cell_type": "markdown",
   "id": "5a461395",
   "metadata": {},
   "source": [
    "Checking the general organization of the results dataframe. Checking the data input in the columns and see if there are changes between the beginning and end of the data. "
   ]
  },
  {
   "cell_type": "code",
   "execution_count": 4,
   "id": "b3b57e02",
   "metadata": {},
   "outputs": [
    {
     "name": "stdout",
     "output_type": "stream",
     "text": [
      "         date home_team away_team  home_score  away_score tournament     city  \\\n",
      "0  1872-11-30  Scotland   England           0           0   Friendly  Glasgow   \n",
      "1  1873-03-08   England  Scotland           4           2   Friendly   London   \n",
      "2  1874-03-07  Scotland   England           2           1   Friendly  Glasgow   \n",
      "3  1875-03-06   England  Scotland           2           2   Friendly   London   \n",
      "4  1876-03-04  Scotland   England           3           0   Friendly  Glasgow   \n",
      "\n",
      "    country  neutral  \n",
      "0  Scotland    False  \n",
      "1   England    False  \n",
      "2  Scotland    False  \n",
      "3   England    False  \n",
      "4  Scotland    False  \n",
      "             date    home_team    away_team  home_score  away_score  \\\n",
      "48330  2025-06-10       Serbia      Andorra           3           0   \n",
      "48331  2025-06-10       Latvia      Albania           1           1   \n",
      "48332  2025-06-10  New Zealand      Ukraine           1           2   \n",
      "48333  2025-06-10       Canada  Ivory Coast           0           0   \n",
      "48334  2025-06-10      Belarus       Russia           1           4   \n",
      "\n",
      "                         tournament      city  country  neutral  \n",
      "48330  FIFA World Cup qualification  Leskovac   Serbia    False  \n",
      "48331  FIFA World Cup qualification      Riga   Latvia    False  \n",
      "48332               Canadian Shield   Toronto   Canada     True  \n",
      "48333               Canadian Shield   Toronto   Canada    False  \n",
      "48334                      Friendly     Minsk  Belarus    False  \n"
     ]
    }
   ],
   "source": [
    "print(results.head())\n",
    "print(results.tail())"
   ]
  },
  {
   "cell_type": "markdown",
   "id": "844701b8",
   "metadata": {},
   "source": [
    "Similar process and reasoning for checking the results dataframe. I plan to use this dataframe later with the results data for exploring shootouts in the World Cup. "
   ]
  },
  {
   "cell_type": "code",
   "execution_count": 5,
   "id": "7ac9c8dd",
   "metadata": {},
   "outputs": [
    {
     "name": "stdout",
     "output_type": "stream",
     "text": [
      "         date    home_team         away_team       winner first_shooter\n",
      "0  1967-08-22        India            Taiwan       Taiwan           NaN\n",
      "1  1971-11-14  South Korea  Vietnam Republic  South Korea           NaN\n",
      "2  1972-05-07  South Korea              Iraq         Iraq           NaN\n",
      "3  1972-05-17     Thailand       South Korea  South Korea           NaN\n",
      "4  1972-05-19     Thailand          Cambodia     Thailand           NaN\n",
      "           date   home_team    away_team      winner first_shooter\n",
      "642  2024-07-06     Uruguay       Brazil     Uruguay       Uruguay\n",
      "643  2024-07-13      Canada      Uruguay     Uruguay        Canada\n",
      "644  2024-09-08  Tajikistan  Philippines  Tajikistan           NaN\n",
      "645  2024-09-10    Cambodia    Sri Lanka   Sri Lanka      Cambodia\n",
      "646  2025-06-08    Portugal        Spain    Portugal      Portugal\n"
     ]
    }
   ],
   "source": [
    "print(shootouts.head())\n",
    "print(shootouts.tail())"
   ]
  },
  {
   "cell_type": "markdown",
   "id": "ffe3696a",
   "metadata": {},
   "source": [
    "Same reasoning as results and shootouts. Checking for differences in how data is organized and the beginning of this data starts approximately 40 years after some of the earliest data in the results csv. "
   ]
  },
  {
   "cell_type": "code",
   "execution_count": 6,
   "id": "c4ab026a",
   "metadata": {},
   "outputs": [
    {
     "name": "stdout",
     "output_type": "stream",
     "text": [
      "         date  home_team away_team       team            scorer  minute  \\\n",
      "0  1916-07-02      Chile   Uruguay    Uruguay   José Piendibene    44.0   \n",
      "1  1916-07-02      Chile   Uruguay    Uruguay  Isabelino Gradín    55.0   \n",
      "2  1916-07-02      Chile   Uruguay    Uruguay  Isabelino Gradín    70.0   \n",
      "3  1916-07-02      Chile   Uruguay    Uruguay   José Piendibene    75.0   \n",
      "4  1916-07-06  Argentina     Chile  Argentina     Alberto Ohaco     2.0   \n",
      "\n",
      "   own_goal  penalty  \n",
      "0     False    False  \n",
      "1     False    False  \n",
      "2     False    False  \n",
      "3     False    False  \n",
      "4     False    False  \n",
      "             date  home_team away_team       team            scorer  minute  \\\n",
      "44357  2024-07-13     Canada   Uruguay    Uruguay       Luis Suárez    90.0   \n",
      "44358  2024-07-14  Argentina  Colombia  Argentina  Lautaro Martínez   112.0   \n",
      "44359  2024-07-14      Spain   England      Spain     Nico Williams    47.0   \n",
      "44360  2024-07-14      Spain   England    England       Cole Palmer    73.0   \n",
      "44361  2024-07-14      Spain   England      Spain   Mikel Oyarzabal    86.0   \n",
      "\n",
      "       own_goal  penalty  \n",
      "44357     False    False  \n",
      "44358     False    False  \n",
      "44359     False    False  \n",
      "44360     False    False  \n",
      "44361     False    False  \n"
     ]
    }
   ],
   "source": [
    "print(goalscorers.head())\n",
    "print(goalscorers.tail())"
   ]
  },
  {
   "cell_type": "code",
   "execution_count": 7,
   "id": "448e3cc3",
   "metadata": {},
   "outputs": [
    {
     "name": "stdout",
     "output_type": "stream",
     "text": [
      "results shape: (48335, 9)\n"
     ]
    }
   ],
   "source": [
    "# Function to print the shape of the dataframes\n",
    "def print_shape(df, name):\n",
    "    print(f\"{name} shape: {df.shape}\")\n",
    "\n",
    "print_shape(results, 'results')"
   ]
  },
  {
   "cell_type": "code",
   "execution_count": 8,
   "id": "0c0cd054",
   "metadata": {},
   "outputs": [
    {
     "name": "stdout",
     "output_type": "stream",
     "text": [
      "shootouts dtypes:\n",
      "date             object\n",
      "home_team        object\n",
      "away_team        object\n",
      "winner           object\n",
      "first_shooter    object\n",
      "dtype: object\n",
      "\n"
     ]
    }
   ],
   "source": [
    "# Function to print the dtypes\n",
    "def print_dtypes(df, name):\n",
    "    print(f\"{name} dtypes:\\n{df.dtypes}\\n\")\n",
    "\n",
    "print_dtypes(shootouts, 'shootouts')"
   ]
  },
  {
   "cell_type": "code",
   "execution_count": 9,
   "id": "b3969156",
   "metadata": {},
   "outputs": [
    {
     "name": "stdout",
     "output_type": "stream",
     "text": [
      "date           0\n",
      "home_team      0\n",
      "away_team      0\n",
      "team           0\n",
      "scorer        49\n",
      "minute       259\n",
      "own_goal       0\n",
      "penalty        0\n",
      "dtype: int64\n"
     ]
    }
   ],
   "source": [
    "# Function to check for null values in the dataframes\n",
    "def is_null(df):\n",
    "    print(df.isnull().sum())\n",
    "\n",
    "is_null(goalscorers)"
   ]
  },
  {
   "cell_type": "code",
   "execution_count": 10,
   "id": "e56e1e4a",
   "metadata": {},
   "outputs": [
    {
     "name": "stdout",
     "output_type": "stream",
     "text": [
      "<class 'pandas.core.frame.DataFrame'>\n",
      "RangeIndex: 48335 entries, 0 to 48334\n",
      "Data columns (total 9 columns):\n",
      " #   Column      Non-Null Count  Dtype \n",
      "---  ------      --------------  ----- \n",
      " 0   date        48335 non-null  object\n",
      " 1   home_team   48335 non-null  object\n",
      " 2   away_team   48335 non-null  object\n",
      " 3   home_score  48335 non-null  int64 \n",
      " 4   away_score  48335 non-null  int64 \n",
      " 5   tournament  48335 non-null  object\n",
      " 6   city        48335 non-null  object\n",
      " 7   country     48335 non-null  object\n",
      " 8   neutral     48335 non-null  bool  \n",
      "dtypes: bool(1), int64(2), object(6)\n",
      "memory usage: 3.0+ MB\n",
      "results info: None\n"
     ]
    }
   ],
   "source": [
    "# Function to call the info method on the dataframes\n",
    "def print_info(df, name):\n",
    "    print(f\"{name} info: {df.info()}\")\n",
    "\n",
    "print_info(results, 'results')"
   ]
  },
  {
   "cell_type": "markdown",
   "id": "02b71b79",
   "metadata": {},
   "source": [
    "This function was created to quickly call describe of any dataframes. The data is rounded for readability. "
   ]
  },
  {
   "cell_type": "code",
   "execution_count": 11,
   "id": "bcfcf9a6",
   "metadata": {},
   "outputs": [
    {
     "name": "stdout",
     "output_type": "stream",
     "text": [
      "results describe:        home_score  away_score\n",
      "count    48335.00    48335.00\n",
      "mean         1.76        1.18\n",
      "std          1.77        1.40\n",
      "min          0.00        0.00\n",
      "25%          1.00        0.00\n",
      "50%          1.00        1.00\n",
      "75%          2.00        2.00\n",
      "max         31.00       21.00\n"
     ]
    }
   ],
   "source": [
    "# Function to call the describe method on the data frames. I rounded the output 2 decimal places for readability.\n",
    "def print_describe(df, name):\n",
    "    print(f\"{name} describe: {df.describe().round(2)}\")\n",
    "\n",
    "print_describe(results, 'results')\n"
   ]
  },
  {
   "cell_type": "markdown",
   "id": "8847a24e",
   "metadata": {},
   "source": [
    "Standardizing the dates of the three tables for combining the tables since the dates are going to be the primary key for each of the new tables. "
   ]
  },
  {
   "cell_type": "code",
   "execution_count": 12,
   "id": "2b918217",
   "metadata": {},
   "outputs": [
    {
     "data": {
      "application/vnd.microsoft.datawrangler.viewer.v0+json": {
       "columns": [
        {
         "name": "index",
         "rawType": "int64",
         "type": "integer"
        },
        {
         "name": "date",
         "rawType": "datetime64[ns]",
         "type": "datetime"
        },
        {
         "name": "home_team",
         "rawType": "object",
         "type": "string"
        },
        {
         "name": "away_team",
         "rawType": "object",
         "type": "string"
        },
        {
         "name": "team",
         "rawType": "object",
         "type": "string"
        },
        {
         "name": "scorer",
         "rawType": "object",
         "type": "unknown"
        },
        {
         "name": "minute",
         "rawType": "float64",
         "type": "float"
        },
        {
         "name": "own_goal",
         "rawType": "bool",
         "type": "boolean"
        },
        {
         "name": "penalty",
         "rawType": "bool",
         "type": "boolean"
        }
       ],
       "ref": "6199498f-952b-4b4b-9a4b-cfb0d1c8575f",
       "rows": [
        [
         "0",
         "1916-07-02 00:00:00",
         "Chile",
         "Uruguay",
         "Uruguay",
         "José Piendibene",
         "44.0",
         "False",
         "False"
        ],
        [
         "1",
         "1916-07-02 00:00:00",
         "Chile",
         "Uruguay",
         "Uruguay",
         "Isabelino Gradín",
         "55.0",
         "False",
         "False"
        ],
        [
         "2",
         "1916-07-02 00:00:00",
         "Chile",
         "Uruguay",
         "Uruguay",
         "Isabelino Gradín",
         "70.0",
         "False",
         "False"
        ],
        [
         "3",
         "1916-07-02 00:00:00",
         "Chile",
         "Uruguay",
         "Uruguay",
         "José Piendibene",
         "75.0",
         "False",
         "False"
        ],
        [
         "4",
         "1916-07-06 00:00:00",
         "Argentina",
         "Chile",
         "Argentina",
         "Alberto Ohaco",
         "2.0",
         "False",
         "False"
        ],
        [
         "5",
         "1916-07-06 00:00:00",
         "Argentina",
         "Chile",
         "Chile",
         "Telésforo Báez",
         "44.0",
         "False",
         "False"
        ],
        [
         "6",
         "1916-07-06 00:00:00",
         "Argentina",
         "Chile",
         "Argentina",
         "Juan Domingo Brown",
         "60.0",
         "False",
         "True"
        ],
        [
         "7",
         "1916-07-06 00:00:00",
         "Argentina",
         "Chile",
         "Argentina",
         "Juan Domingo Brown",
         "62.0",
         "False",
         "True"
        ],
        [
         "8",
         "1916-07-06 00:00:00",
         "Argentina",
         "Chile",
         "Argentina",
         "Alberto Marcovecchio",
         "67.0",
         "False",
         "False"
        ],
        [
         "9",
         "1916-07-06 00:00:00",
         "Argentina",
         "Chile",
         "Argentina",
         "Alberto Ohaco",
         "75.0",
         "False",
         "False"
        ],
        [
         "10",
         "1916-07-06 00:00:00",
         "Argentina",
         "Chile",
         "Argentina",
         "Alberto Marcovecchio",
         "81.0",
         "False",
         "False"
        ],
        [
         "11",
         "1916-07-08 00:00:00",
         "Brazil",
         "Chile",
         "Brazil",
         "Demóstenes Correia de Syllos",
         "29.0",
         "False",
         "False"
        ],
        [
         "12",
         "1916-07-08 00:00:00",
         "Brazil",
         "Chile",
         "Chile",
         "Hernando Salazar",
         "85.0",
         "False",
         "False"
        ],
        [
         "13",
         "1916-07-10 00:00:00",
         "Argentina",
         "Brazil",
         "Argentina",
         "José Durand Laguna",
         "10.0",
         "False",
         "False"
        ],
        [
         "14",
         "1916-07-10 00:00:00",
         "Argentina",
         "Brazil",
         "Brazil",
         "Manoel Alencar Monte",
         "23.0",
         "False",
         "False"
        ],
        [
         "15",
         "1916-07-12 00:00:00",
         "Brazil",
         "Uruguay",
         "Brazil",
         "Arthur Friedenreich",
         "8.0",
         "False",
         "False"
        ],
        [
         "16",
         "1916-07-12 00:00:00",
         "Brazil",
         "Uruguay",
         "Uruguay",
         "Isabelino Gradín",
         "58.0",
         "False",
         "False"
        ],
        [
         "17",
         "1916-07-12 00:00:00",
         "Brazil",
         "Uruguay",
         "Uruguay",
         "Jose Tognola",
         "77.0",
         "False",
         "False"
        ],
        [
         "18",
         "1917-09-30 00:00:00",
         "Uruguay",
         "Chile",
         "Uruguay",
         "Carlos Scarone",
         "20.0",
         "False",
         "False"
        ],
        [
         "19",
         "1917-09-30 00:00:00",
         "Uruguay",
         "Chile",
         "Uruguay",
         "Ángel Romano",
         "44.0",
         "False",
         "False"
        ],
        [
         "20",
         "1917-09-30 00:00:00",
         "Uruguay",
         "Chile",
         "Uruguay",
         "Carlos Scarone",
         "62.0",
         "False",
         "True"
        ],
        [
         "21",
         "1917-09-30 00:00:00",
         "Uruguay",
         "Chile",
         "Uruguay",
         "Ángel Romano",
         "75.0",
         "False",
         "False"
        ],
        [
         "22",
         "1917-10-03 00:00:00",
         "Argentina",
         "Brazil",
         "Brazil",
         "Neco",
         "8.0",
         "False",
         "False"
        ],
        [
         "23",
         "1917-10-03 00:00:00",
         "Argentina",
         "Brazil",
         "Argentina",
         "Pedro Calomino",
         "15.0",
         "False",
         "False"
        ],
        [
         "24",
         "1917-10-03 00:00:00",
         "Argentina",
         "Brazil",
         "Brazil",
         "Silvio Lagreca",
         "39.0",
         "False",
         "True"
        ],
        [
         "25",
         "1917-10-03 00:00:00",
         "Argentina",
         "Brazil",
         "Argentina",
         "Alberto Ohaco",
         "56.0",
         "False",
         "True"
        ],
        [
         "26",
         "1917-10-03 00:00:00",
         "Argentina",
         "Brazil",
         "Argentina",
         "Alberto Ohaco",
         "58.0",
         "False",
         "True"
        ],
        [
         "27",
         "1917-10-03 00:00:00",
         "Argentina",
         "Brazil",
         "Argentina",
         "Antonio Blanco",
         "80.0",
         "False",
         "False"
        ],
        [
         "28",
         "1917-10-06 00:00:00",
         "Argentina",
         "Chile",
         "Argentina",
         "Luis García",
         "76.0",
         "True",
         "False"
        ],
        [
         "29",
         "1917-10-07 00:00:00",
         "Uruguay",
         "Brazil",
         "Uruguay",
         "Héctor Scarone",
         "8.0",
         "False",
         "False"
        ],
        [
         "30",
         "1917-10-07 00:00:00",
         "Uruguay",
         "Brazil",
         "Uruguay",
         "Ángel Romano",
         "17.0",
         "False",
         "False"
        ],
        [
         "31",
         "1917-10-07 00:00:00",
         "Uruguay",
         "Brazil",
         "Uruguay",
         "Ángel Romano",
         "77.0",
         "False",
         "False"
        ],
        [
         "32",
         "1917-10-07 00:00:00",
         "Uruguay",
         "Brazil",
         "Uruguay",
         "Carlos Scarone",
         "86.0",
         "False",
         "False"
        ],
        [
         "33",
         "1917-10-12 00:00:00",
         "Brazil",
         "Chile",
         "Brazil",
         "Caetano Izzo",
         "21.0",
         "False",
         "False"
        ],
        [
         "34",
         "1917-10-12 00:00:00",
         "Brazil",
         "Chile",
         "Brazil",
         "Neco",
         "23.0",
         "False",
         "False"
        ],
        [
         "35",
         "1917-10-12 00:00:00",
         "Brazil",
         "Chile",
         "Brazil",
         "Haroldo Domingues",
         "26.0",
         "False",
         "False"
        ],
        [
         "36",
         "1917-10-12 00:00:00",
         "Brazil",
         "Chile",
         "Brazil",
         "Amílcar Barbuy",
         "41.0",
         "False",
         "False"
        ],
        [
         "37",
         "1917-10-12 00:00:00",
         "Brazil",
         "Chile",
         "Brazil",
         "Haroldo Domingues",
         "59.0",
         "False",
         "False"
        ],
        [
         "38",
         "1917-10-14 00:00:00",
         "Uruguay",
         "Argentina",
         "Uruguay",
         "Héctor Scarone",
         "62.0",
         "False",
         "False"
        ],
        [
         "39",
         "1919-05-11 00:00:00",
         "Brazil",
         "Chile",
         "Brazil",
         "Arthur Friedenreich",
         "19.0",
         "False",
         "False"
        ],
        [
         "40",
         "1919-05-11 00:00:00",
         "Brazil",
         "Chile",
         "Brazil",
         "Neco",
         "21.0",
         "False",
         "False"
        ],
        [
         "41",
         "1919-05-11 00:00:00",
         "Brazil",
         "Chile",
         "Brazil",
         "Arthur Friedenreich",
         "38.0",
         "False",
         "False"
        ],
        [
         "42",
         "1919-05-11 00:00:00",
         "Brazil",
         "Chile",
         "Brazil",
         "Arthur Friedenreich",
         "76.0",
         "False",
         "False"
        ],
        [
         "43",
         "1919-05-11 00:00:00",
         "Brazil",
         "Chile",
         "Brazil",
         "Haroldo Domingues",
         "79.0",
         "False",
         "False"
        ],
        [
         "44",
         "1919-05-11 00:00:00",
         "Brazil",
         "Chile",
         "Brazil",
         "Neco",
         "83.0",
         "False",
         "False"
        ],
        [
         "45",
         "1919-05-13 00:00:00",
         "Argentina",
         "Uruguay",
         "Uruguay",
         "Carlos Scarone",
         "19.0",
         "False",
         "False"
        ],
        [
         "46",
         "1919-05-13 00:00:00",
         "Argentina",
         "Uruguay",
         "Uruguay",
         "Héctor Scarone",
         "23.0",
         "False",
         "False"
        ],
        [
         "47",
         "1919-05-13 00:00:00",
         "Argentina",
         "Uruguay",
         "Argentina",
         "Carlos Izaguirre",
         "34.0",
         "False",
         "False"
        ],
        [
         "48",
         "1919-05-13 00:00:00",
         "Argentina",
         "Uruguay",
         "Argentina",
         "Manuel Varela",
         "79.0",
         "True",
         "False"
        ],
        [
         "49",
         "1919-05-13 00:00:00",
         "Argentina",
         "Uruguay",
         "Uruguay",
         "Isabelino Gradín",
         "85.0",
         "False",
         "False"
        ]
       ],
       "shape": {
        "columns": 8,
        "rows": 44362
       }
      },
      "text/html": [
       "<div>\n",
       "<style scoped>\n",
       "    .dataframe tbody tr th:only-of-type {\n",
       "        vertical-align: middle;\n",
       "    }\n",
       "\n",
       "    .dataframe tbody tr th {\n",
       "        vertical-align: top;\n",
       "    }\n",
       "\n",
       "    .dataframe thead th {\n",
       "        text-align: right;\n",
       "    }\n",
       "</style>\n",
       "<table border=\"1\" class=\"dataframe\">\n",
       "  <thead>\n",
       "    <tr style=\"text-align: right;\">\n",
       "      <th></th>\n",
       "      <th>date</th>\n",
       "      <th>home_team</th>\n",
       "      <th>away_team</th>\n",
       "      <th>team</th>\n",
       "      <th>scorer</th>\n",
       "      <th>minute</th>\n",
       "      <th>own_goal</th>\n",
       "      <th>penalty</th>\n",
       "    </tr>\n",
       "  </thead>\n",
       "  <tbody>\n",
       "    <tr>\n",
       "      <th>0</th>\n",
       "      <td>1916-07-02</td>\n",
       "      <td>Chile</td>\n",
       "      <td>Uruguay</td>\n",
       "      <td>Uruguay</td>\n",
       "      <td>José Piendibene</td>\n",
       "      <td>44.0</td>\n",
       "      <td>False</td>\n",
       "      <td>False</td>\n",
       "    </tr>\n",
       "    <tr>\n",
       "      <th>1</th>\n",
       "      <td>1916-07-02</td>\n",
       "      <td>Chile</td>\n",
       "      <td>Uruguay</td>\n",
       "      <td>Uruguay</td>\n",
       "      <td>Isabelino Gradín</td>\n",
       "      <td>55.0</td>\n",
       "      <td>False</td>\n",
       "      <td>False</td>\n",
       "    </tr>\n",
       "    <tr>\n",
       "      <th>2</th>\n",
       "      <td>1916-07-02</td>\n",
       "      <td>Chile</td>\n",
       "      <td>Uruguay</td>\n",
       "      <td>Uruguay</td>\n",
       "      <td>Isabelino Gradín</td>\n",
       "      <td>70.0</td>\n",
       "      <td>False</td>\n",
       "      <td>False</td>\n",
       "    </tr>\n",
       "    <tr>\n",
       "      <th>3</th>\n",
       "      <td>1916-07-02</td>\n",
       "      <td>Chile</td>\n",
       "      <td>Uruguay</td>\n",
       "      <td>Uruguay</td>\n",
       "      <td>José Piendibene</td>\n",
       "      <td>75.0</td>\n",
       "      <td>False</td>\n",
       "      <td>False</td>\n",
       "    </tr>\n",
       "    <tr>\n",
       "      <th>4</th>\n",
       "      <td>1916-07-06</td>\n",
       "      <td>Argentina</td>\n",
       "      <td>Chile</td>\n",
       "      <td>Argentina</td>\n",
       "      <td>Alberto Ohaco</td>\n",
       "      <td>2.0</td>\n",
       "      <td>False</td>\n",
       "      <td>False</td>\n",
       "    </tr>\n",
       "    <tr>\n",
       "      <th>...</th>\n",
       "      <td>...</td>\n",
       "      <td>...</td>\n",
       "      <td>...</td>\n",
       "      <td>...</td>\n",
       "      <td>...</td>\n",
       "      <td>...</td>\n",
       "      <td>...</td>\n",
       "      <td>...</td>\n",
       "    </tr>\n",
       "    <tr>\n",
       "      <th>44357</th>\n",
       "      <td>2024-07-13</td>\n",
       "      <td>Canada</td>\n",
       "      <td>Uruguay</td>\n",
       "      <td>Uruguay</td>\n",
       "      <td>Luis Suárez</td>\n",
       "      <td>90.0</td>\n",
       "      <td>False</td>\n",
       "      <td>False</td>\n",
       "    </tr>\n",
       "    <tr>\n",
       "      <th>44358</th>\n",
       "      <td>2024-07-14</td>\n",
       "      <td>Argentina</td>\n",
       "      <td>Colombia</td>\n",
       "      <td>Argentina</td>\n",
       "      <td>Lautaro Martínez</td>\n",
       "      <td>112.0</td>\n",
       "      <td>False</td>\n",
       "      <td>False</td>\n",
       "    </tr>\n",
       "    <tr>\n",
       "      <th>44359</th>\n",
       "      <td>2024-07-14</td>\n",
       "      <td>Spain</td>\n",
       "      <td>England</td>\n",
       "      <td>Spain</td>\n",
       "      <td>Nico Williams</td>\n",
       "      <td>47.0</td>\n",
       "      <td>False</td>\n",
       "      <td>False</td>\n",
       "    </tr>\n",
       "    <tr>\n",
       "      <th>44360</th>\n",
       "      <td>2024-07-14</td>\n",
       "      <td>Spain</td>\n",
       "      <td>England</td>\n",
       "      <td>England</td>\n",
       "      <td>Cole Palmer</td>\n",
       "      <td>73.0</td>\n",
       "      <td>False</td>\n",
       "      <td>False</td>\n",
       "    </tr>\n",
       "    <tr>\n",
       "      <th>44361</th>\n",
       "      <td>2024-07-14</td>\n",
       "      <td>Spain</td>\n",
       "      <td>England</td>\n",
       "      <td>Spain</td>\n",
       "      <td>Mikel Oyarzabal</td>\n",
       "      <td>86.0</td>\n",
       "      <td>False</td>\n",
       "      <td>False</td>\n",
       "    </tr>\n",
       "  </tbody>\n",
       "</table>\n",
       "<p>44362 rows × 8 columns</p>\n",
       "</div>"
      ],
      "text/plain": [
       "            date  home_team away_team       team            scorer  minute  \\\n",
       "0     1916-07-02      Chile   Uruguay    Uruguay   José Piendibene    44.0   \n",
       "1     1916-07-02      Chile   Uruguay    Uruguay  Isabelino Gradín    55.0   \n",
       "2     1916-07-02      Chile   Uruguay    Uruguay  Isabelino Gradín    70.0   \n",
       "3     1916-07-02      Chile   Uruguay    Uruguay   José Piendibene    75.0   \n",
       "4     1916-07-06  Argentina     Chile  Argentina     Alberto Ohaco     2.0   \n",
       "...          ...        ...       ...        ...               ...     ...   \n",
       "44357 2024-07-13     Canada   Uruguay    Uruguay       Luis Suárez    90.0   \n",
       "44358 2024-07-14  Argentina  Colombia  Argentina  Lautaro Martínez   112.0   \n",
       "44359 2024-07-14      Spain   England      Spain     Nico Williams    47.0   \n",
       "44360 2024-07-14      Spain   England    England       Cole Palmer    73.0   \n",
       "44361 2024-07-14      Spain   England      Spain   Mikel Oyarzabal    86.0   \n",
       "\n",
       "       own_goal  penalty  \n",
       "0         False    False  \n",
       "1         False    False  \n",
       "2         False    False  \n",
       "3         False    False  \n",
       "4         False    False  \n",
       "...         ...      ...  \n",
       "44357     False    False  \n",
       "44358     False    False  \n",
       "44359     False    False  \n",
       "44360     False    False  \n",
       "44361     False    False  \n",
       "\n",
       "[44362 rows x 8 columns]"
      ]
     },
     "execution_count": 12,
     "metadata": {},
     "output_type": "execute_result"
    }
   ],
   "source": [
    "#Function to convert a specified column in a DataFrame to datetime format in case I add any dataframes later\n",
    "\n",
    "\n",
    "def to_datetime(df, column='date', date_format='%Y-%m-%d'):\n",
    "    \"\"\"\n",
    "    Converts a specified column in a DataFrame to datetime format.\n",
    "    \"\"\"\n",
    "    df[column] = pd.to_datetime(df[column], format=date_format)\n",
    "    return df\n",
    "\n",
    "\n",
    "to_datetime(results)\n",
    "to_datetime(shootouts)\n",
    "to_datetime(goalscorers)"
   ]
  },
  {
   "cell_type": "markdown",
   "id": "4a48969c",
   "metadata": {},
   "source": [
    "I am creating a datafram called results_wc to get extract only matches that were part of the World Cup tournament. The goal is to count the number of countries that have played in the World Cup over the courst of the tournament as the tournament expanded over the twentieth century. \n",
    "\n",
    "In the opening line of code, copilot suggested using .copy() after I received the following message in the output when I ran the code without .copy() at the end.\n",
    "\n",
    "A value is trying to be set on a copy of a slice from a DataFrame.\n",
    "Try using .loc[row_indexer,col_indexer] = value instead\n",
    "\n",
    "Since this is new I used Bing to research this method to understand why it was included and am including the explanation I found below from geeks for geeks. \n",
    "    \"The copy() method in Python is used to create a shallow copy of a list. This means that the method creates a new list containing the same elements as the original list but maintains its own identity in memory. It's useful when you want to ensure that changes to the new list do not affect the original list and vice versa.\"\n",
    "\n",
    "After initially trying to count nunique of home and away teams, I realized after researching that it would be best to use pd.concat for the home and away team columns to combine them into one home team column to eliminate duplicate countries from the count. Copilot also pointed out there were countries that were always the away team in the tournament and this ensured they would be included in the count.\n",
    "\n"
   ]
  },
  {
   "cell_type": "code",
   "execution_count": 13,
   "id": "e995fdf7",
   "metadata": {},
   "outputs": [
    {
     "data": {
      "application/vnd.microsoft.datawrangler.viewer.v0+json": {
       "columns": [
        {
         "name": "index",
         "rawType": "int64",
         "type": "integer"
        },
        {
         "name": "year",
         "rawType": "int32",
         "type": "integer"
        },
        {
         "name": "countries",
         "rawType": "int64",
         "type": "integer"
        }
       ],
       "ref": "f2181cfd-a741-4d16-89af-c550fd9b7ff0",
       "rows": [
        [
         "0",
         "1930",
         "13"
        ],
        [
         "1",
         "1934",
         "16"
        ],
        [
         "2",
         "1938",
         "15"
        ],
        [
         "3",
         "1950",
         "13"
        ],
        [
         "4",
         "1954",
         "16"
        ],
        [
         "5",
         "1958",
         "16"
        ],
        [
         "6",
         "1962",
         "16"
        ],
        [
         "7",
         "1966",
         "16"
        ],
        [
         "8",
         "1970",
         "16"
        ],
        [
         "9",
         "1974",
         "16"
        ],
        [
         "10",
         "1978",
         "16"
        ],
        [
         "11",
         "1982",
         "24"
        ],
        [
         "12",
         "1986",
         "24"
        ],
        [
         "13",
         "1990",
         "24"
        ],
        [
         "14",
         "1994",
         "24"
        ],
        [
         "15",
         "1998",
         "32"
        ],
        [
         "16",
         "2002",
         "32"
        ],
        [
         "17",
         "2006",
         "32"
        ],
        [
         "18",
         "2010",
         "32"
        ],
        [
         "19",
         "2014",
         "32"
        ],
        [
         "20",
         "2018",
         "32"
        ],
        [
         "21",
         "2022",
         "32"
        ]
       ],
       "shape": {
        "columns": 2,
        "rows": 22
       }
      },
      "text/html": [
       "<div>\n",
       "<style scoped>\n",
       "    .dataframe tbody tr th:only-of-type {\n",
       "        vertical-align: middle;\n",
       "    }\n",
       "\n",
       "    .dataframe tbody tr th {\n",
       "        vertical-align: top;\n",
       "    }\n",
       "\n",
       "    .dataframe thead th {\n",
       "        text-align: right;\n",
       "    }\n",
       "</style>\n",
       "<table border=\"1\" class=\"dataframe\">\n",
       "  <thead>\n",
       "    <tr style=\"text-align: right;\">\n",
       "      <th></th>\n",
       "      <th>year</th>\n",
       "      <th>countries</th>\n",
       "    </tr>\n",
       "  </thead>\n",
       "  <tbody>\n",
       "    <tr>\n",
       "      <th>0</th>\n",
       "      <td>1930</td>\n",
       "      <td>13</td>\n",
       "    </tr>\n",
       "    <tr>\n",
       "      <th>1</th>\n",
       "      <td>1934</td>\n",
       "      <td>16</td>\n",
       "    </tr>\n",
       "    <tr>\n",
       "      <th>2</th>\n",
       "      <td>1938</td>\n",
       "      <td>15</td>\n",
       "    </tr>\n",
       "    <tr>\n",
       "      <th>3</th>\n",
       "      <td>1950</td>\n",
       "      <td>13</td>\n",
       "    </tr>\n",
       "    <tr>\n",
       "      <th>4</th>\n",
       "      <td>1954</td>\n",
       "      <td>16</td>\n",
       "    </tr>\n",
       "    <tr>\n",
       "      <th>5</th>\n",
       "      <td>1958</td>\n",
       "      <td>16</td>\n",
       "    </tr>\n",
       "    <tr>\n",
       "      <th>6</th>\n",
       "      <td>1962</td>\n",
       "      <td>16</td>\n",
       "    </tr>\n",
       "    <tr>\n",
       "      <th>7</th>\n",
       "      <td>1966</td>\n",
       "      <td>16</td>\n",
       "    </tr>\n",
       "    <tr>\n",
       "      <th>8</th>\n",
       "      <td>1970</td>\n",
       "      <td>16</td>\n",
       "    </tr>\n",
       "    <tr>\n",
       "      <th>9</th>\n",
       "      <td>1974</td>\n",
       "      <td>16</td>\n",
       "    </tr>\n",
       "    <tr>\n",
       "      <th>10</th>\n",
       "      <td>1978</td>\n",
       "      <td>16</td>\n",
       "    </tr>\n",
       "    <tr>\n",
       "      <th>11</th>\n",
       "      <td>1982</td>\n",
       "      <td>24</td>\n",
       "    </tr>\n",
       "    <tr>\n",
       "      <th>12</th>\n",
       "      <td>1986</td>\n",
       "      <td>24</td>\n",
       "    </tr>\n",
       "    <tr>\n",
       "      <th>13</th>\n",
       "      <td>1990</td>\n",
       "      <td>24</td>\n",
       "    </tr>\n",
       "    <tr>\n",
       "      <th>14</th>\n",
       "      <td>1994</td>\n",
       "      <td>24</td>\n",
       "    </tr>\n",
       "    <tr>\n",
       "      <th>15</th>\n",
       "      <td>1998</td>\n",
       "      <td>32</td>\n",
       "    </tr>\n",
       "    <tr>\n",
       "      <th>16</th>\n",
       "      <td>2002</td>\n",
       "      <td>32</td>\n",
       "    </tr>\n",
       "    <tr>\n",
       "      <th>17</th>\n",
       "      <td>2006</td>\n",
       "      <td>32</td>\n",
       "    </tr>\n",
       "    <tr>\n",
       "      <th>18</th>\n",
       "      <td>2010</td>\n",
       "      <td>32</td>\n",
       "    </tr>\n",
       "    <tr>\n",
       "      <th>19</th>\n",
       "      <td>2014</td>\n",
       "      <td>32</td>\n",
       "    </tr>\n",
       "    <tr>\n",
       "      <th>20</th>\n",
       "      <td>2018</td>\n",
       "      <td>32</td>\n",
       "    </tr>\n",
       "    <tr>\n",
       "      <th>21</th>\n",
       "      <td>2022</td>\n",
       "      <td>32</td>\n",
       "    </tr>\n",
       "  </tbody>\n",
       "</table>\n",
       "</div>"
      ],
      "text/plain": [
       "    year  countries\n",
       "0   1930         13\n",
       "1   1934         16\n",
       "2   1938         15\n",
       "3   1950         13\n",
       "4   1954         16\n",
       "5   1958         16\n",
       "6   1962         16\n",
       "7   1966         16\n",
       "8   1970         16\n",
       "9   1974         16\n",
       "10  1978         16\n",
       "11  1982         24\n",
       "12  1986         24\n",
       "13  1990         24\n",
       "14  1994         24\n",
       "15  1998         32\n",
       "16  2002         32\n",
       "17  2006         32\n",
       "18  2010         32\n",
       "19  2014         32\n",
       "20  2018         32\n",
       "21  2022         32"
      ]
     },
     "execution_count": 13,
     "metadata": {},
     "output_type": "execute_result"
    }
   ],
   "source": [
    "# Creating a new dataframe only from the results dataframe to get matches that only involve the FIFA World Cup\n",
    "results_wc = results[results['tournament'] == 'FIFA World Cup'].copy()\n",
    "\n",
    "\n",
    "# Extracting the year from the date column to group by year\n",
    "results_wc['year'] = results_wc['date'].dt.year\n",
    "\n",
    "# Concatenate the home and away teams into one column and keeping the year to count unique teams\n",
    "teams = pd.concat([\n",
    "        results_wc[['year', 'home_team']],\n",
    "        results_wc[['year', 'away_team']].rename(columns={'away_team': 'home_team'})\n",
    "])\n",
    "\n",
    "#print(teams.head(20))\n",
    "#print(teams.home_team.nunique())\n",
    "\n",
    "# Grouping by year and counting the number of unique home teams that participated in each World Cup and renaming the colunm to countries_count\n",
    "countries_count = teams.groupby('year')['home_team'].nunique().reset_index(name= 'countries')\n",
    "\n",
    "countries_count\n"
   ]
  },
  {
   "cell_type": "markdown",
   "id": "0bbcfd4d",
   "metadata": {},
   "source": [
    "Graph of the World cup tournament from 1930-2022. When creating this graph, I initially was using pyplot from matplotlib, but chose to switch to sns because I personally found modifying color through sns to be easier. "
   ]
  },
  {
   "cell_type": "code",
   "execution_count": 14,
   "id": "37718bb0",
   "metadata": {},
   "outputs": [
    {
     "data": {
      "image/png": "[encoded data removed]",
      "text/plain": [
       "<Figure size 1300x600 with 1 Axes>"
      ]
     },
     "metadata": {},
     "output_type": "display_data"
    }
   ],
   "source": [
    "#Create line graph from countries_count dataframe\n",
    "plt.figure(figsize=(13, 6))\n",
    "sns.lineplot(data=countries_count, x='year', y='countries', color='black', marker='o', markerfacecolor='red', markeredgecolor='black',)\n",
    "plt.title('Number of Countries Participating in FIFA World Cup Over the Years')\n",
    "plt.xlabel('Year')\n",
    "plt.ylabel('Number of Countries')\n",
    "plt.xticks(countries_count['year'], rotation=45)\n",
    "plt.grid(True)\n",
    "plt.show()"
   ]
  },
  {
   "cell_type": "code",
   "execution_count": null,
   "id": "aa6ac8c5",
   "metadata": {},
   "outputs": [],
   "source": []
  },
  {
   "cell_type": "code",
   "execution_count": 15,
   "id": "bfc1fd66",
   "metadata": {},
   "outputs": [
    {
     "name": "stdout",
     "output_type": "stream",
     "text": [
      "                  date  home_team         away_team  home_score  away_score  \\\n",
      "0  1967-08-22 00:00:00    Myanmar  Vietnam Republic           3           0   \n",
      "1  1967-08-22 00:00:00      India            Taiwan           1           1   \n",
      "2  1967-08-22 00:00:00     Mexico         Argentina           2           1   \n",
      "3  1971-11-14 00:00:00    Albania            Turkey           3           0   \n",
      "4  1971-11-14 00:00:00  Australia            Israel           1           0   \n",
      "\n",
      "                tournament          city    country  neutral  \\\n",
      "0       Merdeka Tournament  Kuala Lumpur   Malaysia        1   \n",
      "1       Merdeka Tournament  Kuala Lumpur   Malaysia        1   \n",
      "2                 Friendly   Mexico City     Mexico        0   \n",
      "3  UEFA Euro qualification        Tirana    Albania        0   \n",
      "4                 Friendly        Sydney  Australia        0   \n",
      "\n",
      "                  date    home_team         away_team       winner  \\\n",
      "0  1967-08-22 00:00:00        India            Taiwan       Taiwan   \n",
      "1  1967-08-22 00:00:00        India            Taiwan       Taiwan   \n",
      "2  1967-08-22 00:00:00        India            Taiwan       Taiwan   \n",
      "3  1971-11-14 00:00:00  South Korea  Vietnam Republic  South Korea   \n",
      "4  1971-11-14 00:00:00  South Korea  Vietnam Republic  South Korea   \n",
      "\n",
      "  first_shooter  \n",
      "0          None  \n",
      "1          None  \n",
      "2          None  \n",
      "3          None  \n",
      "4          None  \n"
     ]
    }
   ],
   "source": [
    "#Join results with shootouts for later analysis.\n",
    "\n",
    "#Create a SQLite database and store the DataFrames\n",
    "conn = sqlite3.connect('your_database.db')\n",
    "results.to_sql('results', conn, if_exists='replace', index=False)\n",
    "shootouts.to_sql('shootouts', conn, if_exists='replace', index=False)\n",
    "\n",
    "#SQL query to join results with shootouts\n",
    "#Originally had trouble joining the tables due to different date formats, but figured it out when meeting with a mentor.\n",
    "results_join = \"\"\"SELECT *\n",
    "FROM results\n",
    "INNER JOIN shootouts\n",
    "ON results.date = shootouts.date;\n",
    "\"\"\"\n",
    "\n",
    "#Execute the query and load the results into a DataFrame\n",
    "df_results_join = pd.read_sql_query(results_join, conn)\n",
    "print(df_results_join.head())\n",
    "conn.close()\n"
   ]
  },
  {
   "cell_type": "code",
   "execution_count": 16,
   "id": "d4079d13",
   "metadata": {},
   "outputs": [
    {
     "name": "stdout",
     "output_type": "stream",
     "text": [
      "                     date             home_team     away_team  home_score  \\\n",
      "4103  2024-09-10 00:00:00             Venezuela       Uruguay           0   \n",
      "4104  2024-09-10 00:00:00              Paraguay        Brazil           1   \n",
      "4105  2024-09-10 00:00:00           North Korea         Qatar           2   \n",
      "4106  2024-09-10 00:00:00            Kyrgyzstan    Uzbekistan           2   \n",
      "4107  2024-09-10 00:00:00  United Arab Emirates          Iran           0   \n",
      "4108  2024-09-10 00:00:00                  Oman   South Korea           1   \n",
      "4109  2024-09-10 00:00:00                Kuwait          Iraq           0   \n",
      "4110  2024-09-10 00:00:00             Palestine        Jordan           1   \n",
      "4111  2024-09-10 00:00:00               Bahrain         Japan           0   \n",
      "4112  2024-09-10 00:00:00             Indonesia     Australia           0   \n",
      "4113  2024-09-10 00:00:00              China PR  Saudi Arabia           1   \n",
      "4114  2025-06-08 00:00:00               Germany        France           0   \n",
      "4115  2025-06-08 00:00:00              Portugal         Spain           2   \n",
      "4116  2025-06-08 00:00:00              DR Congo    Madagascar           3   \n",
      "4117  2025-06-08 00:00:00               Georgia    Cape Verde           1   \n",
      "\n",
      "      away_score                    tournament          city  \\\n",
      "4103           0  FIFA World Cup qualification       Maturín   \n",
      "4104           0  FIFA World Cup qualification      Asunción   \n",
      "4105           2  FIFA World Cup qualification     Vientiane   \n",
      "4106           3  FIFA World Cup qualification       Bishkek   \n",
      "4107           1  FIFA World Cup qualification        Al Ain   \n",
      "4108           3  FIFA World Cup qualification        Muscat   \n",
      "4109           0  FIFA World Cup qualification   Kuwait City   \n",
      "4110           3  FIFA World Cup qualification  Kuala Lumpur   \n",
      "4111           5  FIFA World Cup qualification         Riffa   \n",
      "4112           0  FIFA World Cup qualification       Jakarta   \n",
      "4113           2  FIFA World Cup qualification        Dalian   \n",
      "4114           2           UEFA Nations League     Stuttgart   \n",
      "4115           2           UEFA Nations League        Munich   \n",
      "4116           1                      Friendly       Orléans   \n",
      "4117           1                      Friendly       Kutaisi   \n",
      "\n",
      "                   country  neutral                 date home_team  away_team  \\\n",
      "4103             Venezuela        0  2024-09-10 00:00:00  Cambodia  Sri Lanka   \n",
      "4104              Paraguay        0  2024-09-10 00:00:00  Cambodia  Sri Lanka   \n",
      "4105                  Laos        1  2024-09-10 00:00:00  Cambodia  Sri Lanka   \n",
      "4106            Kyrgyzstan        0  2024-09-10 00:00:00  Cambodia  Sri Lanka   \n",
      "4107  United Arab Emirates        0  2024-09-10 00:00:00  Cambodia  Sri Lanka   \n",
      "4108                  Oman        0  2024-09-10 00:00:00  Cambodia  Sri Lanka   \n",
      "4109                Kuwait        0  2024-09-10 00:00:00  Cambodia  Sri Lanka   \n",
      "4110              Malaysia        1  2024-09-10 00:00:00  Cambodia  Sri Lanka   \n",
      "4111               Bahrain        0  2024-09-10 00:00:00  Cambodia  Sri Lanka   \n",
      "4112             Indonesia        0  2024-09-10 00:00:00  Cambodia  Sri Lanka   \n",
      "4113              China PR        0  2024-09-10 00:00:00  Cambodia  Sri Lanka   \n",
      "4114               Germany        0  2025-06-08 00:00:00  Portugal      Spain   \n",
      "4115               Germany        1  2025-06-08 00:00:00  Portugal      Spain   \n",
      "4116                France        1  2025-06-08 00:00:00  Portugal      Spain   \n",
      "4117               Georgia        0  2025-06-08 00:00:00  Portugal      Spain   \n",
      "\n",
      "         winner first_shooter  \n",
      "4103  Sri Lanka      Cambodia  \n",
      "4104  Sri Lanka      Cambodia  \n",
      "4105  Sri Lanka      Cambodia  \n",
      "4106  Sri Lanka      Cambodia  \n",
      "4107  Sri Lanka      Cambodia  \n",
      "4108  Sri Lanka      Cambodia  \n",
      "4109  Sri Lanka      Cambodia  \n",
      "4110  Sri Lanka      Cambodia  \n",
      "4111  Sri Lanka      Cambodia  \n",
      "4112  Sri Lanka      Cambodia  \n",
      "4113  Sri Lanka      Cambodia  \n",
      "4114   Portugal      Portugal  \n",
      "4115   Portugal      Portugal  \n",
      "4116   Portugal      Portugal  \n",
      "4117   Portugal      Portugal  \n"
     ]
    }
   ],
   "source": [
    "print(df_results_join.tail(15))"
   ]
  },
  {
   "cell_type": "code",
   "execution_count": 17,
   "id": "a60dcd9f",
   "metadata": {},
   "outputs": [
    {
     "name": "stdout",
     "output_type": "stream",
     "text": [
      "            match_date  home_team      away_team  home_score  away_score  \\\n",
      "0  1930-07-13 00:00:00    Belgium  United States           0           3   \n",
      "1  1930-07-13 00:00:00     France         Mexico           4           1   \n",
      "2  1930-07-14 00:00:00     Brazil     Yugoslavia           1           2   \n",
      "3  1930-07-14 00:00:00       Peru        Romania           1           3   \n",
      "4  1930-07-15 00:00:00  Argentina         France           1           0   \n",
      "\n",
      "       tournament winner  \n",
      "0  FIFA World Cup   None  \n",
      "1  FIFA World Cup   None  \n",
      "2  FIFA World Cup   None  \n",
      "3  FIFA World Cup   None  \n",
      "4  FIFA World Cup   None  \n",
      "(970, 7)\n"
     ]
    }
   ],
   "source": [
    "# Create a new SQLite connection and dataframe using the results and shootouts tables with only matches from FIFA World Cup matches.\n",
    "conn = sqlite3.connect('your_database.db')\n",
    "results.to_sql('results', conn, if_exists='replace', index=False)\n",
    "shootouts.to_sql('shootouts', conn, if_exists='replace', index=False)\n",
    "\n",
    "\n",
    "results_WC = \"\"\"SELECT results.date AS match_date,\n",
    "    results.home_team,\n",
    "    results.away_team,\n",
    "    results.home_score,\n",
    "    results.away_score,\n",
    "    results.tournament,\n",
    "    shootouts.winner\n",
    "FROM results\n",
    "LEFT JOIN shootouts\n",
    "ON results.date = shootouts.date\n",
    "WHERE results.tournament = 'FIFA World Cup';\n",
    "\"\"\"\n",
    "\n",
    "df_WC = pd.read_sql_query(results_WC, conn)\n",
    "print(df_WC.head())\n",
    "\n",
    "conn.close()\n",
    "\n",
    "print(df_WC.shape)\n",
    "\n",
    "#convert the date column to datetime\n",
    "df_WC['match_date'] = pd.to_datetime(df_WC['match_date'], errors='coerce')"
   ]
  },
  {
   "cell_type": "markdown",
   "id": "c1405a02",
   "metadata": {},
   "source": [
    "I was trying to get a count of the goals and the first line was suggested by copilot because I tried to do a nunique count for each column without incorporating value_counts, which copilot predicted I would need. "
   ]
  },
  {
   "cell_type": "code",
   "execution_count": 18,
   "id": "359f562b",
   "metadata": {},
   "outputs": [
    {
     "name": "stdout",
     "output_type": "stream",
     "text": [
      "Total number of unique countries in FIFA World Cup matches: 159\n",
      "Number of matches per country:\n",
      "Brazil         116.0\n",
      "Germany        113.0\n",
      "Argentina       89.0\n",
      "Italy           83.0\n",
      "France          74.0\n",
      "England         74.0\n",
      "Spain           68.0\n",
      "Mexico          61.0\n",
      "Uruguay         59.0\n",
      "Netherlands     56.0\n",
      "Name: count, dtype: float64\n"
     ]
    }
   ],
   "source": [
    "#This was the suggestion from copilot - \n",
    "country_counts = df_WC['home_team'].value_counts().add(df_WC['away_team'].value_counts(), fill_value=0)\n",
    "country_count = df_WC['home_team'].nunique() + df_WC['away_team'].nunique()\n",
    "print(f\"Total number of unique countries in FIFA World Cup matches: {country_count}\")\n",
    "print(\"Number of matches per country:\")\n",
    "print(country_counts.sort_values(ascending=False).head(10))"
   ]
  },
  {
   "cell_type": "markdown",
   "id": "3966d032",
   "metadata": {},
   "source": [
    "This is a merge of goalscorers and results to get the top 20 goal scorers for the tournament. For output readability, I pulled only the columns date, home_team, and away_team from the resulst dataframe and performed an inner merge using on the same columns in goalscorers to get only the World Cup game results. After merging the dataframes, I filtered for the top 20 goal scorers and created the pivot table for the heatmap after refreshing on Codecademy to creat pivot tables and heatmap"
   ]
  },
  {
   "cell_type": "code",
   "execution_count": 19,
   "id": "3a1d0568",
   "metadata": {},
   "outputs": [
    {
     "data": {
      "image/png": "[encoded data removed]",
      "text/plain": [
       "<Figure size 1200x1000 with 2 Axes>"
      ]
     },
     "metadata": {},
     "output_type": "display_data"
    }
   ],
   "source": [
    "# Filter for World Cup matches only, merge with goalscorers, and extract year for heatmap\n",
    "wc_results = results[results['tournament'] == 'FIFA World Cup'][['date', 'home_team', 'away_team']]\n",
    "goals_wc = goalscorers.merge(wc_results, on=['date', 'home_team', 'away_team'], how='inner')\n",
    "goals_wc['year'] = goals_wc['date'].dt.year\n",
    "\n",
    "# Count goals per player per year and get top 20 scorers. Pulled isin method from Codecademy lesson and had copilot help troubleshoot the code to get it to work properly.\n",
    "player_year_goals = goals_wc.groupby(['scorer', 'year']).size().reset_index(name='goals')\n",
    "top20_scorers = player_year_goals.groupby('scorer')['goals'].sum().nlargest(20).index\n",
    "top20_data = player_year_goals[player_year_goals['scorer'].isin(top20_scorers)]\n",
    "\n",
    "# Pivot table for the heatmap\n",
    "pivot = top20_data.pivot(index='scorer', columns='year', values='goals').fillna(0)\n",
    "\n",
    "# Plot the heatmap\n",
    "plt.figure(figsize=(12, 10))\n",
    "sns.heatmap(pivot, cmap='Reds', annot=True, fmt='g', linewidths=0.5, linecolor='gray')\n",
    "plt.title('Top 20 World Cup Goal Scorers by Year')\n",
    "plt.xlabel('Year')\n",
    "plt.ylabel('Player')\n",
    "plt.tight_layout()\n",
    "plt.savefig('top20_wc_scorers_heatmap.png')\n",
    "plt.show()\n"
   ]
  },
  {
   "cell_type": "code",
   "execution_count": 30,
   "id": "f86e82e5",
   "metadata": {},
   "outputs": [
    {
     "data": {
      "image/png": "[encoded data removed]",
      "text/plain": [
       "<Figure size 1200x800 with 1 Axes>"
      ]
     },
     "metadata": {},
     "output_type": "display_data"
    }
   ],
   "source": [
    "#Plotting the top 30 countries with the most matches in FIFA World Cup\n",
    "#There are 30 countries in this graph to capture a couple countries that no longer exist (Czechoslovakia and Yugoslavia)\n",
    "\"\"\"\n",
    "The three lines below were suggest by copilot in addition to the plotting code beneath the comment.\n",
    "plt.style.use('ggplot')\n",
    "country_counts = df_WC['home_team'].value_counts().add(df_WC['away_team'].value_counts(), fill_value=0)\n",
    "print(country_counts.sort_values(ascending=False).head(10))\n",
    "\"\"\"\n",
    "\n",
    "plt.figure(figsize=(12, 8))\n",
    "top_countries = country_counts.sort_values(ascending=False).head(30)\n",
    "\n",
    "# Creating a variable for the colors in the bar chart.\n",
    "# Attempted colors schemes virdis and tab10 in addition to tab 20. \n",
    "\n",
    "\n",
    "top_countries.plot(kind='bar', color= \"orange\", edgecolor='black')\n",
    "plt.title('Top 30 Countries with Most Matches in FIFA World Cup')\n",
    "plt.xlabel('Countries')\n",
    "plt.ylabel('Number of Matches')\n",
    "plt.xticks(rotation=75)\n",
    "plt.tight_layout()\n",
    "plt.savefig('top30_wc_countries.png')\n",
    "plt.show()\n"
   ]
  },
  {
   "cell_type": "code",
   "execution_count": 21,
   "id": "e895b3ee",
   "metadata": {},
   "outputs": [
    {
     "data": {
      "application/vnd.microsoft.datawrangler.viewer.v0+json": {
       "columns": [
        {
         "name": "index",
         "rawType": "int64",
         "type": "integer"
        },
        {
         "name": "match_date",
         "rawType": "datetime64[ns]",
         "type": "datetime"
        },
        {
         "name": "home_team",
         "rawType": "object",
         "type": "string"
        },
        {
         "name": "away_team",
         "rawType": "object",
         "type": "string"
        },
        {
         "name": "home_score",
         "rawType": "int64",
         "type": "integer"
        },
        {
         "name": "away_score",
         "rawType": "int64",
         "type": "integer"
        },
        {
         "name": "tournament",
         "rawType": "object",
         "type": "string"
        },
        {
         "name": "winner",
         "rawType": "object",
         "type": "unknown"
        }
       ],
       "ref": "51828cc6-24cf-4d13-a021-4de7bf904f1e",
       "rows": [
        [
         "0",
         "1930-07-13 00:00:00",
         "Belgium",
         "United States",
         "0",
         "3",
         "FIFA World Cup",
         null
        ],
        [
         "7",
         "1930-07-17 00:00:00",
         "Paraguay",
         "United States",
         "0",
         "3",
         "FIFA World Cup",
         null
        ],
        [
         "15",
         "1930-07-26 00:00:00",
         "Argentina",
         "United States",
         "6",
         "1",
         "FIFA World Cup",
         null
        ],
        [
         "24",
         "1934-05-27 00:00:00",
         "Italy",
         "United States",
         "7",
         "1",
         "FIFA World Cup",
         null
        ],
        [
         "56",
         "1950-06-25 00:00:00",
         "Spain",
         "United States",
         "3",
         "1",
         "FIFA World Cup",
         null
        ],
        [
         "61",
         "1950-06-29 00:00:00",
         "England",
         "United States",
         "0",
         "1",
         "FIFA World Cup",
         null
        ],
        [
         "65",
         "1950-07-02 00:00:00",
         "Chile",
         "United States",
         "5",
         "2",
         "FIFA World Cup",
         null
        ],
        [
         "420",
         "1990-06-10 00:00:00",
         "United States",
         "Czechoslovakia",
         "1",
         "5",
         "FIFA World Cup",
         null
        ],
        [
         "428",
         "1990-06-14 00:00:00",
         "Italy",
         "United States",
         "1",
         "0",
         "FIFA World Cup",
         null
        ],
        [
         "440",
         "1990-06-19 00:00:00",
         "Austria",
         "United States",
         "2",
         "1",
         "FIFA World Cup",
         null
        ],
        [
         "470",
         "1994-06-18 00:00:00",
         "United States",
         "Switzerland",
         "1",
         "1",
         "FIFA World Cup",
         null
        ],
        [
         "480",
         "1994-06-22 00:00:00",
         "United States",
         "Colombia",
         "2",
         "1",
         "FIFA World Cup",
         null
        ],
        [
         "491",
         "1994-06-26 00:00:00",
         "United States",
         "Romania",
         "0",
         "1",
         "FIFA World Cup",
         null
        ],
        [
         "507",
         "1994-07-04 00:00:00",
         "United States",
         "Brazil",
         "0",
         "1",
         "FIFA World Cup",
         null
        ],
        [
         "532",
         "1998-06-15 00:00:00",
         "Germany",
         "United States",
         "2",
         "0",
         "FIFA World Cup",
         null
        ],
        [
         "547",
         "1998-06-21 00:00:00",
         "United States",
         "Iran",
         "1",
         "2",
         "FIFA World Cup",
         null
        ],
        [
         "561",
         "1998-06-25 00:00:00",
         "United States",
         "Serbia",
         "0",
         "1",
         "FIFA World Cup",
         null
        ],
        [
         "598",
         "2002-06-05 00:00:00",
         "United States",
         "Portugal",
         "3",
         "2",
         "FIFA World Cup",
         null
        ],
        [
         "611",
         "2002-06-10 00:00:00",
         "South Korea",
         "United States",
         "1",
         "1",
         "FIFA World Cup",
         null
        ],
        [
         "629",
         "2002-06-14 00:00:00",
         "Poland",
         "United States",
         "3",
         "1",
         "FIFA World Cup",
         null
        ],
        [
         "635",
         "2002-06-17 00:00:00",
         "Mexico",
         "United States",
         "0",
         "2",
         "FIFA World Cup",
         null
        ],
        [
         "639",
         "2002-06-21 00:00:00",
         "Germany",
         "United States",
         "1",
         "0",
         "FIFA World Cup",
         null
        ],
        [
         "656",
         "2006-06-12 00:00:00",
         "United States",
         "Czech Republic",
         "0",
         "3",
         "FIFA World Cup",
         null
        ],
        [
         "670",
         "2006-06-17 00:00:00",
         "Italy",
         "United States",
         "1",
         "1",
         "FIFA World Cup",
         null
        ],
        [
         "688",
         "2006-06-22 00:00:00",
         "Ghana",
         "United States",
         "2",
         "1",
         "FIFA World Cup",
         null
        ],
        [
         "713",
         "2010-06-12 00:00:00",
         "England",
         "United States",
         "1",
         "1",
         "FIFA World Cup",
         null
        ],
        [
         "732",
         "2010-06-18 00:00:00",
         "Slovenia",
         "United States",
         "2",
         "2",
         "FIFA World Cup",
         null
        ],
        [
         "749",
         "2010-06-23 00:00:00",
         "United States",
         "Algeria",
         "1",
         "0",
         "FIFA World Cup",
         null
        ],
        [
         "759",
         "2010-06-26 00:00:00",
         "United States",
         "Ghana",
         "1",
         "2",
         "FIFA World Cup",
         null
        ],
        [
         "786",
         "2014-06-16 00:00:00",
         "Ghana",
         "United States",
         "1",
         "2",
         "FIFA World Cup",
         null
        ],
        [
         "805",
         "2014-06-22 00:00:00",
         "United States",
         "Portugal",
         "2",
         "2",
         "FIFA World Cup",
         null
        ],
        [
         "821",
         "2014-06-26 00:00:00",
         "United States",
         "Germany",
         "0",
         "1",
         "FIFA World Cup",
         null
        ],
        [
         "829",
         "2014-07-01 00:00:00",
         "Belgium",
         "United States",
         "2",
         "1",
         "FIFA World Cup",
         null
        ],
        [
         "907",
         "2022-11-21 00:00:00",
         "United States",
         "Wales",
         "1",
         "1",
         "FIFA World Cup",
         null
        ],
        [
         "923",
         "2022-11-25 00:00:00",
         "England",
         "United States",
         "0",
         "0",
         "FIFA World Cup",
         null
        ],
        [
         "939",
         "2022-11-29 00:00:00",
         "Iran",
         "United States",
         "0",
         "1",
         "FIFA World Cup",
         null
        ],
        [
         "952",
         "2022-12-03 00:00:00",
         "Netherlands",
         "United States",
         "3",
         "1",
         "FIFA World Cup",
         null
        ]
       ],
       "shape": {
        "columns": 7,
        "rows": 37
       }
      },
      "text/html": [
       "<div>\n",
       "<style scoped>\n",
       "    .dataframe tbody tr th:only-of-type {\n",
       "        vertical-align: middle;\n",
       "    }\n",
       "\n",
       "    .dataframe tbody tr th {\n",
       "        vertical-align: top;\n",
       "    }\n",
       "\n",
       "    .dataframe thead th {\n",
       "        text-align: right;\n",
       "    }\n",
       "</style>\n",
       "<table border=\"1\" class=\"dataframe\">\n",
       "  <thead>\n",
       "    <tr style=\"text-align: right;\">\n",
       "      <th></th>\n",
       "      <th>match_date</th>\n",
       "      <th>home_team</th>\n",
       "      <th>away_team</th>\n",
       "      <th>home_score</th>\n",
       "      <th>away_score</th>\n",
       "      <th>tournament</th>\n",
       "      <th>winner</th>\n",
       "    </tr>\n",
       "  </thead>\n",
       "  <tbody>\n",
       "    <tr>\n",
       "      <th>0</th>\n",
       "      <td>1930-07-13</td>\n",
       "      <td>Belgium</td>\n",
       "      <td>United States</td>\n",
       "      <td>0</td>\n",
       "      <td>3</td>\n",
       "      <td>FIFA World Cup</td>\n",
       "      <td>None</td>\n",
       "    </tr>\n",
       "    <tr>\n",
       "      <th>7</th>\n",
       "      <td>1930-07-17</td>\n",
       "      <td>Paraguay</td>\n",
       "      <td>United States</td>\n",
       "      <td>0</td>\n",
       "      <td>3</td>\n",
       "      <td>FIFA World Cup</td>\n",
       "      <td>None</td>\n",
       "    </tr>\n",
       "    <tr>\n",
       "      <th>15</th>\n",
       "      <td>1930-07-26</td>\n",
       "      <td>Argentina</td>\n",
       "      <td>United States</td>\n",
       "      <td>6</td>\n",
       "      <td>1</td>\n",
       "      <td>FIFA World Cup</td>\n",
       "      <td>None</td>\n",
       "    </tr>\n",
       "    <tr>\n",
       "      <th>24</th>\n",
       "      <td>1934-05-27</td>\n",
       "      <td>Italy</td>\n",
       "      <td>United States</td>\n",
       "      <td>7</td>\n",
       "      <td>1</td>\n",
       "      <td>FIFA World Cup</td>\n",
       "      <td>None</td>\n",
       "    </tr>\n",
       "    <tr>\n",
       "      <th>56</th>\n",
       "      <td>1950-06-25</td>\n",
       "      <td>Spain</td>\n",
       "      <td>United States</td>\n",
       "      <td>3</td>\n",
       "      <td>1</td>\n",
       "      <td>FIFA World Cup</td>\n",
       "      <td>None</td>\n",
       "    </tr>\n",
       "    <tr>\n",
       "      <th>61</th>\n",
       "      <td>1950-06-29</td>\n",
       "      <td>England</td>\n",
       "      <td>United States</td>\n",
       "      <td>0</td>\n",
       "      <td>1</td>\n",
       "      <td>FIFA World Cup</td>\n",
       "      <td>None</td>\n",
       "    </tr>\n",
       "    <tr>\n",
       "      <th>65</th>\n",
       "      <td>1950-07-02</td>\n",
       "      <td>Chile</td>\n",
       "      <td>United States</td>\n",
       "      <td>5</td>\n",
       "      <td>2</td>\n",
       "      <td>FIFA World Cup</td>\n",
       "      <td>None</td>\n",
       "    </tr>\n",
       "    <tr>\n",
       "      <th>420</th>\n",
       "      <td>1990-06-10</td>\n",
       "      <td>United States</td>\n",
       "      <td>Czechoslovakia</td>\n",
       "      <td>1</td>\n",
       "      <td>5</td>\n",
       "      <td>FIFA World Cup</td>\n",
       "      <td>None</td>\n",
       "    </tr>\n",
       "    <tr>\n",
       "      <th>428</th>\n",
       "      <td>1990-06-14</td>\n",
       "      <td>Italy</td>\n",
       "      <td>United States</td>\n",
       "      <td>1</td>\n",
       "      <td>0</td>\n",
       "      <td>FIFA World Cup</td>\n",
       "      <td>None</td>\n",
       "    </tr>\n",
       "    <tr>\n",
       "      <th>440</th>\n",
       "      <td>1990-06-19</td>\n",
       "      <td>Austria</td>\n",
       "      <td>United States</td>\n",
       "      <td>2</td>\n",
       "      <td>1</td>\n",
       "      <td>FIFA World Cup</td>\n",
       "      <td>None</td>\n",
       "    </tr>\n",
       "    <tr>\n",
       "      <th>470</th>\n",
       "      <td>1994-06-18</td>\n",
       "      <td>United States</td>\n",
       "      <td>Switzerland</td>\n",
       "      <td>1</td>\n",
       "      <td>1</td>\n",
       "      <td>FIFA World Cup</td>\n",
       "      <td>None</td>\n",
       "    </tr>\n",
       "    <tr>\n",
       "      <th>480</th>\n",
       "      <td>1994-06-22</td>\n",
       "      <td>United States</td>\n",
       "      <td>Colombia</td>\n",
       "      <td>2</td>\n",
       "      <td>1</td>\n",
       "      <td>FIFA World Cup</td>\n",
       "      <td>None</td>\n",
       "    </tr>\n",
       "    <tr>\n",
       "      <th>491</th>\n",
       "      <td>1994-06-26</td>\n",
       "      <td>United States</td>\n",
       "      <td>Romania</td>\n",
       "      <td>0</td>\n",
       "      <td>1</td>\n",
       "      <td>FIFA World Cup</td>\n",
       "      <td>None</td>\n",
       "    </tr>\n",
       "    <tr>\n",
       "      <th>507</th>\n",
       "      <td>1994-07-04</td>\n",
       "      <td>United States</td>\n",
       "      <td>Brazil</td>\n",
       "      <td>0</td>\n",
       "      <td>1</td>\n",
       "      <td>FIFA World Cup</td>\n",
       "      <td>None</td>\n",
       "    </tr>\n",
       "    <tr>\n",
       "      <th>532</th>\n",
       "      <td>1998-06-15</td>\n",
       "      <td>Germany</td>\n",
       "      <td>United States</td>\n",
       "      <td>2</td>\n",
       "      <td>0</td>\n",
       "      <td>FIFA World Cup</td>\n",
       "      <td>None</td>\n",
       "    </tr>\n",
       "    <tr>\n",
       "      <th>547</th>\n",
       "      <td>1998-06-21</td>\n",
       "      <td>United States</td>\n",
       "      <td>Iran</td>\n",
       "      <td>1</td>\n",
       "      <td>2</td>\n",
       "      <td>FIFA World Cup</td>\n",
       "      <td>None</td>\n",
       "    </tr>\n",
       "    <tr>\n",
       "      <th>561</th>\n",
       "      <td>1998-06-25</td>\n",
       "      <td>United States</td>\n",
       "      <td>Serbia</td>\n",
       "      <td>0</td>\n",
       "      <td>1</td>\n",
       "      <td>FIFA World Cup</td>\n",
       "      <td>None</td>\n",
       "    </tr>\n",
       "    <tr>\n",
       "      <th>598</th>\n",
       "      <td>2002-06-05</td>\n",
       "      <td>United States</td>\n",
       "      <td>Portugal</td>\n",
       "      <td>3</td>\n",
       "      <td>2</td>\n",
       "      <td>FIFA World Cup</td>\n",
       "      <td>None</td>\n",
       "    </tr>\n",
       "    <tr>\n",
       "      <th>611</th>\n",
       "      <td>2002-06-10</td>\n",
       "      <td>South Korea</td>\n",
       "      <td>United States</td>\n",
       "      <td>1</td>\n",
       "      <td>1</td>\n",
       "      <td>FIFA World Cup</td>\n",
       "      <td>None</td>\n",
       "    </tr>\n",
       "    <tr>\n",
       "      <th>629</th>\n",
       "      <td>2002-06-14</td>\n",
       "      <td>Poland</td>\n",
       "      <td>United States</td>\n",
       "      <td>3</td>\n",
       "      <td>1</td>\n",
       "      <td>FIFA World Cup</td>\n",
       "      <td>None</td>\n",
       "    </tr>\n",
       "    <tr>\n",
       "      <th>635</th>\n",
       "      <td>2002-06-17</td>\n",
       "      <td>Mexico</td>\n",
       "      <td>United States</td>\n",
       "      <td>0</td>\n",
       "      <td>2</td>\n",
       "      <td>FIFA World Cup</td>\n",
       "      <td>None</td>\n",
       "    </tr>\n",
       "    <tr>\n",
       "      <th>639</th>\n",
       "      <td>2002-06-21</td>\n",
       "      <td>Germany</td>\n",
       "      <td>United States</td>\n",
       "      <td>1</td>\n",
       "      <td>0</td>\n",
       "      <td>FIFA World Cup</td>\n",
       "      <td>None</td>\n",
       "    </tr>\n",
       "    <tr>\n",
       "      <th>656</th>\n",
       "      <td>2006-06-12</td>\n",
       "      <td>United States</td>\n",
       "      <td>Czech Republic</td>\n",
       "      <td>0</td>\n",
       "      <td>3</td>\n",
       "      <td>FIFA World Cup</td>\n",
       "      <td>None</td>\n",
       "    </tr>\n",
       "    <tr>\n",
       "      <th>670</th>\n",
       "      <td>2006-06-17</td>\n",
       "      <td>Italy</td>\n",
       "      <td>United States</td>\n",
       "      <td>1</td>\n",
       "      <td>1</td>\n",
       "      <td>FIFA World Cup</td>\n",
       "      <td>None</td>\n",
       "    </tr>\n",
       "    <tr>\n",
       "      <th>688</th>\n",
       "      <td>2006-06-22</td>\n",
       "      <td>Ghana</td>\n",
       "      <td>United States</td>\n",
       "      <td>2</td>\n",
       "      <td>1</td>\n",
       "      <td>FIFA World Cup</td>\n",
       "      <td>None</td>\n",
       "    </tr>\n",
       "    <tr>\n",
       "      <th>713</th>\n",
       "      <td>2010-06-12</td>\n",
       "      <td>England</td>\n",
       "      <td>United States</td>\n",
       "      <td>1</td>\n",
       "      <td>1</td>\n",
       "      <td>FIFA World Cup</td>\n",
       "      <td>None</td>\n",
       "    </tr>\n",
       "    <tr>\n",
       "      <th>732</th>\n",
       "      <td>2010-06-18</td>\n",
       "      <td>Slovenia</td>\n",
       "      <td>United States</td>\n",
       "      <td>2</td>\n",
       "      <td>2</td>\n",
       "      <td>FIFA World Cup</td>\n",
       "      <td>None</td>\n",
       "    </tr>\n",
       "    <tr>\n",
       "      <th>749</th>\n",
       "      <td>2010-06-23</td>\n",
       "      <td>United States</td>\n",
       "      <td>Algeria</td>\n",
       "      <td>1</td>\n",
       "      <td>0</td>\n",
       "      <td>FIFA World Cup</td>\n",
       "      <td>None</td>\n",
       "    </tr>\n",
       "    <tr>\n",
       "      <th>759</th>\n",
       "      <td>2010-06-26</td>\n",
       "      <td>United States</td>\n",
       "      <td>Ghana</td>\n",
       "      <td>1</td>\n",
       "      <td>2</td>\n",
       "      <td>FIFA World Cup</td>\n",
       "      <td>None</td>\n",
       "    </tr>\n",
       "    <tr>\n",
       "      <th>786</th>\n",
       "      <td>2014-06-16</td>\n",
       "      <td>Ghana</td>\n",
       "      <td>United States</td>\n",
       "      <td>1</td>\n",
       "      <td>2</td>\n",
       "      <td>FIFA World Cup</td>\n",
       "      <td>None</td>\n",
       "    </tr>\n",
       "    <tr>\n",
       "      <th>805</th>\n",
       "      <td>2014-06-22</td>\n",
       "      <td>United States</td>\n",
       "      <td>Portugal</td>\n",
       "      <td>2</td>\n",
       "      <td>2</td>\n",
       "      <td>FIFA World Cup</td>\n",
       "      <td>None</td>\n",
       "    </tr>\n",
       "    <tr>\n",
       "      <th>821</th>\n",
       "      <td>2014-06-26</td>\n",
       "      <td>United States</td>\n",
       "      <td>Germany</td>\n",
       "      <td>0</td>\n",
       "      <td>1</td>\n",
       "      <td>FIFA World Cup</td>\n",
       "      <td>None</td>\n",
       "    </tr>\n",
       "    <tr>\n",
       "      <th>829</th>\n",
       "      <td>2014-07-01</td>\n",
       "      <td>Belgium</td>\n",
       "      <td>United States</td>\n",
       "      <td>2</td>\n",
       "      <td>1</td>\n",
       "      <td>FIFA World Cup</td>\n",
       "      <td>None</td>\n",
       "    </tr>\n",
       "    <tr>\n",
       "      <th>907</th>\n",
       "      <td>2022-11-21</td>\n",
       "      <td>United States</td>\n",
       "      <td>Wales</td>\n",
       "      <td>1</td>\n",
       "      <td>1</td>\n",
       "      <td>FIFA World Cup</td>\n",
       "      <td>None</td>\n",
       "    </tr>\n",
       "    <tr>\n",
       "      <th>923</th>\n",
       "      <td>2022-11-25</td>\n",
       "      <td>England</td>\n",
       "      <td>United States</td>\n",
       "      <td>0</td>\n",
       "      <td>0</td>\n",
       "      <td>FIFA World Cup</td>\n",
       "      <td>None</td>\n",
       "    </tr>\n",
       "    <tr>\n",
       "      <th>939</th>\n",
       "      <td>2022-11-29</td>\n",
       "      <td>Iran</td>\n",
       "      <td>United States</td>\n",
       "      <td>0</td>\n",
       "      <td>1</td>\n",
       "      <td>FIFA World Cup</td>\n",
       "      <td>None</td>\n",
       "    </tr>\n",
       "    <tr>\n",
       "      <th>952</th>\n",
       "      <td>2022-12-03</td>\n",
       "      <td>Netherlands</td>\n",
       "      <td>United States</td>\n",
       "      <td>3</td>\n",
       "      <td>1</td>\n",
       "      <td>FIFA World Cup</td>\n",
       "      <td>None</td>\n",
       "    </tr>\n",
       "  </tbody>\n",
       "</table>\n",
       "</div>"
      ],
      "text/plain": [
       "    match_date      home_team       away_team  home_score  away_score  \\\n",
       "0   1930-07-13        Belgium   United States           0           3   \n",
       "7   1930-07-17       Paraguay   United States           0           3   \n",
       "15  1930-07-26      Argentina   United States           6           1   \n",
       "24  1934-05-27          Italy   United States           7           1   \n",
       "56  1950-06-25          Spain   United States           3           1   \n",
       "61  1950-06-29        England   United States           0           1   \n",
       "65  1950-07-02          Chile   United States           5           2   \n",
       "420 1990-06-10  United States  Czechoslovakia           1           5   \n",
       "428 1990-06-14          Italy   United States           1           0   \n",
       "440 1990-06-19        Austria   United States           2           1   \n",
       "470 1994-06-18  United States     Switzerland           1           1   \n",
       "480 1994-06-22  United States        Colombia           2           1   \n",
       "491 1994-06-26  United States         Romania           0           1   \n",
       "507 1994-07-04  United States          Brazil           0           1   \n",
       "532 1998-06-15        Germany   United States           2           0   \n",
       "547 1998-06-21  United States            Iran           1           2   \n",
       "561 1998-06-25  United States          Serbia           0           1   \n",
       "598 2002-06-05  United States        Portugal           3           2   \n",
       "611 2002-06-10    South Korea   United States           1           1   \n",
       "629 2002-06-14         Poland   United States           3           1   \n",
       "635 2002-06-17         Mexico   United States           0           2   \n",
       "639 2002-06-21        Germany   United States           1           0   \n",
       "656 2006-06-12  United States  Czech Republic           0           3   \n",
       "670 2006-06-17          Italy   United States           1           1   \n",
       "688 2006-06-22          Ghana   United States           2           1   \n",
       "713 2010-06-12        England   United States           1           1   \n",
       "732 2010-06-18       Slovenia   United States           2           2   \n",
       "749 2010-06-23  United States         Algeria           1           0   \n",
       "759 2010-06-26  United States           Ghana           1           2   \n",
       "786 2014-06-16          Ghana   United States           1           2   \n",
       "805 2014-06-22  United States        Portugal           2           2   \n",
       "821 2014-06-26  United States         Germany           0           1   \n",
       "829 2014-07-01        Belgium   United States           2           1   \n",
       "907 2022-11-21  United States           Wales           1           1   \n",
       "923 2022-11-25        England   United States           0           0   \n",
       "939 2022-11-29           Iran   United States           0           1   \n",
       "952 2022-12-03    Netherlands   United States           3           1   \n",
       "\n",
       "         tournament winner  \n",
       "0    FIFA World Cup   None  \n",
       "7    FIFA World Cup   None  \n",
       "15   FIFA World Cup   None  \n",
       "24   FIFA World Cup   None  \n",
       "56   FIFA World Cup   None  \n",
       "61   FIFA World Cup   None  \n",
       "65   FIFA World Cup   None  \n",
       "420  FIFA World Cup   None  \n",
       "428  FIFA World Cup   None  \n",
       "440  FIFA World Cup   None  \n",
       "470  FIFA World Cup   None  \n",
       "480  FIFA World Cup   None  \n",
       "491  FIFA World Cup   None  \n",
       "507  FIFA World Cup   None  \n",
       "532  FIFA World Cup   None  \n",
       "547  FIFA World Cup   None  \n",
       "561  FIFA World Cup   None  \n",
       "598  FIFA World Cup   None  \n",
       "611  FIFA World Cup   None  \n",
       "629  FIFA World Cup   None  \n",
       "635  FIFA World Cup   None  \n",
       "639  FIFA World Cup   None  \n",
       "656  FIFA World Cup   None  \n",
       "670  FIFA World Cup   None  \n",
       "688  FIFA World Cup   None  \n",
       "713  FIFA World Cup   None  \n",
       "732  FIFA World Cup   None  \n",
       "749  FIFA World Cup   None  \n",
       "759  FIFA World Cup   None  \n",
       "786  FIFA World Cup   None  \n",
       "805  FIFA World Cup   None  \n",
       "821  FIFA World Cup   None  \n",
       "829  FIFA World Cup   None  \n",
       "907  FIFA World Cup   None  \n",
       "923  FIFA World Cup   None  \n",
       "939  FIFA World Cup   None  \n",
       "952  FIFA World Cup   None  "
      ]
     },
     "execution_count": 21,
     "metadata": {},
     "output_type": "execute_result"
    }
   ],
   "source": [
    "# Function to get match results by country - This was suggested by copilot. I originally thought about using a for loop, but found the function better for examining each individual country. \n",
    "def get_match_results_by_country(country):\n",
    "        \n",
    "    country_results = df_WC[(df_WC['home_team'] == country) | (df_WC['away_team'] == country)]\n",
    "    return country_results\n",
    "\n",
    "get_match_results_by_country('United States')  # Example usage to get results for Brazil"
   ]
  },
  {
   "cell_type": "code",
   "execution_count": 22,
   "id": "589fd515",
   "metadata": {},
   "outputs": [
    {
     "name": "stdout",
     "output_type": "stream",
     "text": [
      "result  index           team  year  Win  Loss  Draw\n",
      "454       454  United States  1930    2     1     0\n",
      "455       455  United States  1934    0     1     0\n",
      "456       456  United States  1950    1     2     0\n",
      "457       457  United States  1990    0     3     0\n",
      "458       458  United States  1994    1     2     1\n",
      "459       459  United States  1998    0     3     0\n",
      "460       460  United States  2002    2     2     1\n",
      "461       461  United States  2006    0     2     1\n",
      "462       462  United States  2010    1     1     2\n",
      "463       463  United States  2014    1     2     1\n",
      "464       464  United States  2022    1     1     2\n"
     ]
    }
   ],
   "source": [
    "# Creating a new dataframe only from the results dataframe \n",
    "\n",
    "def get_match_results(row):\n",
    "\n",
    "    #Determine match outcomes, including shootouts\n",
    "    if row['home_score'] > row['away_score']:\n",
    "        return pd.Series({'home_result' : 'Win', 'away_result' : 'Loss'})\n",
    "    elif row['home_score'] < row['away_score']:\n",
    "        return pd.Series({'home_result' : 'Loss', 'away_result' : 'Win'})\n",
    "    else:\n",
    "        # Draw in regular time; check for shootout\n",
    "        if pd.notna(row['winner']):\n",
    "            if row['home_score'] == row['home_team']:\n",
    "                return pd.Series({'home_result': 'Win', 'away_result': 'Loss'})\n",
    "            elif row['winner'] == row['away_team']:\n",
    "                return pd.Series({'home_result': 'Loss', 'away_result': 'Win'})\n",
    "        return pd.Series({'home_result': 'Draw', 'away_result': 'Draw'})\n",
    "\n",
    "# Apply the function to create result columns\n",
    "df_WC[['home_result', 'away_result']] = df_WC.apply(get_match_results, axis=1)\n",
    "df_WC['year'] = df_WC['match_date'].dt.year\n",
    "\n",
    "\n",
    "# Reshape the data by creating new dataframs for home and away teams for each team's perspective in order to analyze records by country\n",
    "home_df_WC = df_WC[['year', 'home_team', 'home_result']].copy() # .copy() came from copilot and I was not aware of this feature\n",
    "home_df_WC.columns = ['year', 'team', 'result']\n",
    "away_df_WC = df_WC[['year', 'away_team', 'away_result']].copy()\n",
    "away_df_WC.columns = ['year', 'team', 'result']\n",
    "combined_df_WC = pd.concat([home_df_WC, away_df_WC], ignore_index=True)\n",
    "\n",
    "\n",
    "# Aggregate the results\n",
    "records = combined_df_WC.groupby(['team', 'year', 'result']).size().unstack(fill_value=0).reset_index()\n",
    "records = records.reindex(columns=['team', 'year', 'Win', 'Loss', 'Draw'], fill_value=0) #reindexing to ensure all columns are present, this was from copilot.\n",
    "records = records.reset_index()#.rename(columns={'team': 'Country'})\n",
    "\n",
    "\n",
    "# Added a try/except block to handle potential errors when checking for a country that does not exist in the records dataframe.\n",
    "try:\n",
    "    country = input(\"Enter a country name: \")\n",
    "    country_records = records[records['team'] == country]\n",
    "    if country_records.empty:\n",
    "        raise ValueError(f\"No records found for {country}.\")\n",
    "    print(country_records)\n",
    "except ValueError:\n",
    "    print(\"Please enter a valid country.\")\n"
   ]
  },
  {
   "cell_type": "code",
   "execution_count": 23,
   "id": "af6e169d",
   "metadata": {},
   "outputs": [
    {
     "name": "stdout",
     "output_type": "stream",
     "text": [
      "result  index           team  year  Win  Loss  Draw\n",
      "454       454  United States  1930    2     1     0\n",
      "455       455  United States  1934    0     1     0\n",
      "456       456  United States  1950    1     2     0\n",
      "457       457  United States  1990    0     3     0\n",
      "458       458  United States  1994    1     2     1\n",
      "459       459  United States  1998    0     3     0\n",
      "460       460  United States  2002    2     2     1\n",
      "461       461  United States  2006    0     2     1\n",
      "462       462  United States  2010    1     1     2\n",
      "463       463  United States  2014    1     2     1\n",
      "464       464  United States  2022    1     1     2\n"
     ]
    }
   ],
   "source": [
    "# Code testing above to check for United States records\n",
    "US_records = records[records['team'] == 'United States']\n",
    "print(US_records)\n"
   ]
  },
  {
   "cell_type": "markdown",
   "id": "0eef496f",
   "metadata": {},
   "source": [
    "The code below counted the number of goals scored in total for the World Cup. This does not account for the differentiated number of World Cups each country has played in for the history of this tournament. It is just a raw count of the goals scored by each country. \n",
    "\n"
   ]
  },
  {
   "cell_type": "code",
   "execution_count": 24,
   "id": "6f9d9951",
   "metadata": {},
   "outputs": [
    {
     "name": "stdout",
     "output_type": "stream",
     "text": [
      "Brazil         239.0\n",
      "Germany        232.0\n",
      "Argentina      154.0\n",
      "France         137.0\n",
      "Italy          128.0\n",
      "Spain          109.0\n",
      "England        104.0\n",
      "Netherlands     98.0\n",
      "Uruguay         89.0\n",
      "Hungary         87.0\n",
      "dtype: float64\n"
     ]
    }
   ],
   "source": [
    "# Total goals scored by each country in the World Cup\n",
    "\n",
    "#Sum of home and away goals for each match\n",
    "home_goals = df_WC.groupby('home_team')['home_score'].sum()\n",
    "away_goals = df_WC.groupby('away_team')['away_score'].sum()\n",
    "\n",
    "#Combine the home and away goals to get total goals scored by each country and sort values in descending. Using fill_value to fill any missing data. \n",
    "total_goals = home_goals.add(away_goals, fill_value=0).sort_values(ascending=False)\n",
    "\n",
    "goals_by_country = total_goals.reset_index()\n",
    "goals_by_country.columns = ['country', 'total_goals']\n",
    "#total_goals.columns = ['country', 'goals']\n",
    "\n",
    "#Rounding to 0 decimal places for readability and converting to integer since dealing with a whole number.\n",
    "#total_goals['goals'] = total_goals['goals'].round(0).astype(int)\n",
    "\n",
    "print(total_goals.head(10))\n",
    "\n"
   ]
  },
  {
   "cell_type": "code",
   "execution_count": 25,
   "id": "b903756f",
   "metadata": {},
   "outputs": [
    {
     "name": "stdout",
     "output_type": "stream",
     "text": [
      "Average number of shootouts per World Cup: 44.09\n",
      "Number of shootouts per World Cup year:\n",
      "match_date\n",
      "1930    18\n",
      "1934    17\n",
      "1938    18\n",
      "1950    22\n",
      "1954    26\n",
      "1958    35\n",
      "1962    32\n",
      "1966    32\n",
      "1970    32\n",
      "1974    38\n",
      "1978    38\n",
      "1982    52\n",
      "1986    54\n",
      "1990    52\n",
      "1994    52\n",
      "1998    64\n",
      "2002    64\n",
      "2006    64\n",
      "2010    64\n",
      "2014    64\n",
      "2018    66\n",
      "2022    66\n",
      "Name: count, dtype: int64\n"
     ]
    }
   ],
   "source": [
    "#Average number of shootouts per World Cup\n",
    "average_shootouts = df_WC['match_date'].dt.year.value_counts().mean()\n",
    "print(f\"Average number of shootouts per World Cup: {average_shootouts:.2f}\")\n",
    "\n",
    "# Group by year and count the number of shootouts\n",
    "shootouts_per_year = df_WC['match_date'].dt.year.value_counts().sort_index()\n",
    "print(f\"Number of shootouts per World Cup year:\")\n",
    "print(shootouts_per_year)\n"
   ]
  },
  {
   "cell_type": "markdown",
   "id": "164ac5c0",
   "metadata": {},
   "source": [
    "Code below is for a bar graph for the number of shootouts in each World Cup tournament."
   ]
  },
  {
   "cell_type": "code",
   "execution_count": 26,
   "id": "c6950a16",
   "metadata": {},
   "outputs": [
    {
     "data": {
      "image/png": "[encoded data removed]",
      "text/plain": [
       "<Figure size 1000x600 with 1 Axes>"
      ]
     },
     "metadata": {},
     "output_type": "display_data"
    }
   ],
   "source": [
    "# Bar graph plotting the number of shootouts per year in World Cup matches.\n",
    "df_WC['year'] = df_WC['match_date'].dt.year\n",
    "plt.figure(figsize=(10, 6))\n",
    "df_WC['year'].value_counts().sort_index().plot(kind='bar')\n",
    "plt.title('Number of Shootouts in FIFA World Cup Matches by Year')\n",
    "plt.xlabel('Year')\n",
    "plt.ylabel('Number of Shootouts')\n",
    "plt.xticks(rotation=45)\n",
    "plt.tight_layout()\n",
    "plt.savefig('shootouts_per_year.png')\n",
    "plt.show()\n"
   ]
  },
  {
   "cell_type": "markdown",
   "id": "58f56b10",
   "metadata": {},
   "source": [
    "Code below is for the same date as above, but for a line chart."
   ]
  },
  {
   "cell_type": "code",
   "execution_count": 27,
   "id": "bfea11f6",
   "metadata": {},
   "outputs": [
    {
     "data": {
      "image/png": "[encoded data removed]",
      "text/plain": [
       "<Figure size 1000x600 with 1 Axes>"
      ]
     },
     "metadata": {},
     "output_type": "display_data"
    }
   ],
   "source": [
    "# Line chart for the number of shootouts in each World Cup tournament.\n",
    "\n",
    "df_WC['year'] = df_WC['match_date'].dt.year\n",
    "plt.figure(figsize=(10, 6))\n",
    "df_WC['year'].value_counts().sort_index().plot(kind='line', marker='o')\n",
    "plt.title('Number of Shootouts in FIFA World Cup Matches by Year')  \n",
    "plt.xlabel('Year')\n",
    "plt.ylabel('Number of Shootouts')\n",
    "plt.xticks(rotation=45)\n",
    "plt.tight_layout()\n",
    "plt.savefig('shootouts_per_year_line.png')\n",
    "plt.show()"
   ]
  },
  {
   "cell_type": "code",
   "execution_count": null,
   "id": "ff5167f7",
   "metadata": {},
   "outputs": [],
   "source": []
  },
  {
   "cell_type": "code",
   "execution_count": null,
   "id": "d9d64040",
   "metadata": {},
   "outputs": [],
   "source": []
  },
  {
   "cell_type": "code",
   "execution_count": null,
   "id": "00474411",
   "metadata": {},
   "outputs": [],
   "source": []
  },
  {
   "cell_type": "code",
   "execution_count": null,
   "id": "a08c4410",
   "metadata": {},
   "outputs": [],
   "source": []
  },
  {
   "cell_type": "code",
   "execution_count": null,
   "id": "e7d74e51",
   "metadata": {},
   "outputs": [],
   "source": []
  },
  {
   "cell_type": "code",
   "execution_count": null,
   "id": "862ef393",
   "metadata": {},
   "outputs": [],
   "source": []
  },
  {
   "cell_type": "code",
   "execution_count": null,
   "id": "1447dca3",
   "metadata": {},
   "outputs": [],
   "source": []
  },
  {
   "cell_type": "code",
   "execution_count": null,
   "id": "0f93c903",
   "metadata": {},
   "outputs": [],
   "source": []
  },
  {
   "cell_type": "code",
   "execution_count": null,
   "id": "f89e37a8",
   "metadata": {},
   "outputs": [],
   "source": []
  },
  {
   "cell_type": "code",
   "execution_count": null,
   "id": "3a36e6a1",
   "metadata": {},
   "outputs": [],
   "source": []
  },
  {
   "cell_type": "code",
   "execution_count": null,
   "id": "6f233887",
   "metadata": {},
   "outputs": [],
   "source": []
  }
 ],
 "metadata": {
  "kernelspec": {
   "display_name": "base",
   "language": "python",
   "name": "python3"
  },
  "language_info": {
   "codemirror_mode": {
    "name": "ipython",
    "version": 3
   },
   "file_extension": ".py",
   "mimetype": "text/x-python",
   "name": "python",
   "nbconvert_exporter": "python",
   "pygments_lexer": "ipython3",
   "version": "3.12.7"
  }
 },
 "nbformat": 4,
 "nbformat_minor": 5
}
